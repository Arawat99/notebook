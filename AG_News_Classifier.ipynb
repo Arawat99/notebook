{
 "cells": [
  {
   "cell_type": "markdown",
   "metadata": {
    "id": "Lqup1Bral6pQ"
   },
   "source": [
    "# AG News Sentimental Classification Task\n",
    "\n",
    "Fine tuning distilbert-base-uncased model to classify news text into four classes: World, Sports, Business, and Sci/Tech."
   ]
  },
  {
   "cell_type": "code",
   "execution_count": null,
   "metadata": {
    "colab": {
     "base_uri": "https://localhost:8080/"
    },
    "id": "yPJHRRTeD7FM",
    "outputId": "5aec7182-fd54-4a55-c954-cd3f93ce2df8"
   },
   "outputs": [
    {
     "name": "stdout",
     "output_type": "stream",
     "text": [
      "Requirement already satisfied: datasets in /usr/local/lib/python3.11/dist-packages (2.14.4)\n",
      "Collecting datasets\n",
      "  Downloading datasets-3.6.0-py3-none-any.whl.metadata (19 kB)\n",
      "Requirement already satisfied: filelock in /usr/local/lib/python3.11/dist-packages (from datasets) (3.18.0)\n",
      "Requirement already satisfied: numpy>=1.17 in /usr/local/lib/python3.11/dist-packages (from datasets) (2.0.2)\n",
      "Requirement already satisfied: pyarrow>=15.0.0 in /usr/local/lib/python3.11/dist-packages (from datasets) (18.1.0)\n",
      "Requirement already satisfied: dill<0.3.9,>=0.3.0 in /usr/local/lib/python3.11/dist-packages (from datasets) (0.3.7)\n",
      "Requirement already satisfied: pandas in /usr/local/lib/python3.11/dist-packages (from datasets) (2.2.2)\n",
      "Requirement already satisfied: requests>=2.32.2 in /usr/local/lib/python3.11/dist-packages (from datasets) (2.32.3)\n",
      "Requirement already satisfied: tqdm>=4.66.3 in /usr/local/lib/python3.11/dist-packages (from datasets) (4.67.1)\n",
      "Requirement already satisfied: xxhash in /usr/local/lib/python3.11/dist-packages (from datasets) (3.5.0)\n",
      "Requirement already satisfied: multiprocess<0.70.17 in /usr/local/lib/python3.11/dist-packages (from datasets) (0.70.15)\n",
      "Collecting fsspec<=2025.3.0,>=2023.1.0 (from fsspec[http]<=2025.3.0,>=2023.1.0->datasets)\n",
      "  Downloading fsspec-2025.3.0-py3-none-any.whl.metadata (11 kB)\n",
      "Requirement already satisfied: huggingface-hub>=0.24.0 in /usr/local/lib/python3.11/dist-packages (from datasets) (0.33.0)\n",
      "Requirement already satisfied: packaging in /usr/local/lib/python3.11/dist-packages (from datasets) (24.2)\n",
      "Requirement already satisfied: pyyaml>=5.1 in /usr/local/lib/python3.11/dist-packages (from datasets) (6.0.2)\n",
      "Requirement already satisfied: aiohttp!=4.0.0a0,!=4.0.0a1 in /usr/local/lib/python3.11/dist-packages (from fsspec[http]<=2025.3.0,>=2023.1.0->datasets) (3.11.15)\n",
      "Requirement already satisfied: typing-extensions>=3.7.4.3 in /usr/local/lib/python3.11/dist-packages (from huggingface-hub>=0.24.0->datasets) (4.14.0)\n",
      "Requirement already satisfied: hf-xet<2.0.0,>=1.1.2 in /usr/local/lib/python3.11/dist-packages (from huggingface-hub>=0.24.0->datasets) (1.1.5)\n",
      "Requirement already satisfied: charset-normalizer<4,>=2 in /usr/local/lib/python3.11/dist-packages (from requests>=2.32.2->datasets) (3.4.2)\n",
      "Requirement already satisfied: idna<4,>=2.5 in /usr/local/lib/python3.11/dist-packages (from requests>=2.32.2->datasets) (3.10)\n",
      "Requirement already satisfied: urllib3<3,>=1.21.1 in /usr/local/lib/python3.11/dist-packages (from requests>=2.32.2->datasets) (2.4.0)\n",
      "Requirement already satisfied: certifi>=2017.4.17 in /usr/local/lib/python3.11/dist-packages (from requests>=2.32.2->datasets) (2025.6.15)\n",
      "Requirement already satisfied: python-dateutil>=2.8.2 in /usr/local/lib/python3.11/dist-packages (from pandas->datasets) (2.9.0.post0)\n",
      "Requirement already satisfied: pytz>=2020.1 in /usr/local/lib/python3.11/dist-packages (from pandas->datasets) (2025.2)\n",
      "Requirement already satisfied: tzdata>=2022.7 in /usr/local/lib/python3.11/dist-packages (from pandas->datasets) (2025.2)\n",
      "Requirement already satisfied: aiohappyeyeballs>=2.3.0 in /usr/local/lib/python3.11/dist-packages (from aiohttp!=4.0.0a0,!=4.0.0a1->fsspec[http]<=2025.3.0,>=2023.1.0->datasets) (2.6.1)\n",
      "Requirement already satisfied: aiosignal>=1.1.2 in /usr/local/lib/python3.11/dist-packages (from aiohttp!=4.0.0a0,!=4.0.0a1->fsspec[http]<=2025.3.0,>=2023.1.0->datasets) (1.3.2)\n",
      "Requirement already satisfied: attrs>=17.3.0 in /usr/local/lib/python3.11/dist-packages (from aiohttp!=4.0.0a0,!=4.0.0a1->fsspec[http]<=2025.3.0,>=2023.1.0->datasets) (25.3.0)\n",
      "Requirement already satisfied: frozenlist>=1.1.1 in /usr/local/lib/python3.11/dist-packages (from aiohttp!=4.0.0a0,!=4.0.0a1->fsspec[http]<=2025.3.0,>=2023.1.0->datasets) (1.7.0)\n",
      "Requirement already satisfied: multidict<7.0,>=4.5 in /usr/local/lib/python3.11/dist-packages (from aiohttp!=4.0.0a0,!=4.0.0a1->fsspec[http]<=2025.3.0,>=2023.1.0->datasets) (6.4.4)\n",
      "Requirement already satisfied: propcache>=0.2.0 in /usr/local/lib/python3.11/dist-packages (from aiohttp!=4.0.0a0,!=4.0.0a1->fsspec[http]<=2025.3.0,>=2023.1.0->datasets) (0.3.2)\n",
      "Requirement already satisfied: yarl<2.0,>=1.17.0 in /usr/local/lib/python3.11/dist-packages (from aiohttp!=4.0.0a0,!=4.0.0a1->fsspec[http]<=2025.3.0,>=2023.1.0->datasets) (1.20.1)\n",
      "Requirement already satisfied: six>=1.5 in /usr/local/lib/python3.11/dist-packages (from python-dateutil>=2.8.2->pandas->datasets) (1.17.0)\n",
      "Downloading datasets-3.6.0-py3-none-any.whl (491 kB)\n",
      "\u001b[2K   \u001b[90m━━━━━━━━━━━━━━━━━━━━━━━━━━━━━━━━━━━━━━━━\u001b[0m \u001b[32m491.5/491.5 kB\u001b[0m \u001b[31m11.9 MB/s\u001b[0m eta \u001b[36m0:00:00\u001b[0m\n",
      "\u001b[?25hDownloading fsspec-2025.3.0-py3-none-any.whl (193 kB)\n",
      "\u001b[2K   \u001b[90m━━━━━━━━━━━━━━━━━━━━━━━━━━━━━━━━━━━━━━━━\u001b[0m \u001b[32m193.6/193.6 kB\u001b[0m \u001b[31m16.0 MB/s\u001b[0m eta \u001b[36m0:00:00\u001b[0m\n",
      "\u001b[?25hInstalling collected packages: fsspec, datasets\n",
      "  Attempting uninstall: fsspec\n",
      "    Found existing installation: fsspec 2025.3.2\n",
      "    Uninstalling fsspec-2025.3.2:\n",
      "      Successfully uninstalled fsspec-2025.3.2\n",
      "  Attempting uninstall: datasets\n",
      "    Found existing installation: datasets 2.14.4\n",
      "    Uninstalling datasets-2.14.4:\n",
      "      Successfully uninstalled datasets-2.14.4\n",
      "\u001b[31mERROR: pip's dependency resolver does not currently take into account all the packages that are installed. This behaviour is the source of the following dependency conflicts.\n",
      "torch 2.6.0+cu124 requires nvidia-cublas-cu12==12.4.5.8; platform_system == \"Linux\" and platform_machine == \"x86_64\", but you have nvidia-cublas-cu12 12.5.3.2 which is incompatible.\n",
      "torch 2.6.0+cu124 requires nvidia-cuda-cupti-cu12==12.4.127; platform_system == \"Linux\" and platform_machine == \"x86_64\", but you have nvidia-cuda-cupti-cu12 12.5.82 which is incompatible.\n",
      "torch 2.6.0+cu124 requires nvidia-cuda-nvrtc-cu12==12.4.127; platform_system == \"Linux\" and platform_machine == \"x86_64\", but you have nvidia-cuda-nvrtc-cu12 12.5.82 which is incompatible.\n",
      "torch 2.6.0+cu124 requires nvidia-cuda-runtime-cu12==12.4.127; platform_system == \"Linux\" and platform_machine == \"x86_64\", but you have nvidia-cuda-runtime-cu12 12.5.82 which is incompatible.\n",
      "torch 2.6.0+cu124 requires nvidia-cudnn-cu12==9.1.0.70; platform_system == \"Linux\" and platform_machine == \"x86_64\", but you have nvidia-cudnn-cu12 9.3.0.75 which is incompatible.\n",
      "torch 2.6.0+cu124 requires nvidia-cufft-cu12==11.2.1.3; platform_system == \"Linux\" and platform_machine == \"x86_64\", but you have nvidia-cufft-cu12 11.2.3.61 which is incompatible.\n",
      "torch 2.6.0+cu124 requires nvidia-curand-cu12==10.3.5.147; platform_system == \"Linux\" and platform_machine == \"x86_64\", but you have nvidia-curand-cu12 10.3.6.82 which is incompatible.\n",
      "torch 2.6.0+cu124 requires nvidia-cusolver-cu12==11.6.1.9; platform_system == \"Linux\" and platform_machine == \"x86_64\", but you have nvidia-cusolver-cu12 11.6.3.83 which is incompatible.\n",
      "torch 2.6.0+cu124 requires nvidia-cusparse-cu12==12.3.1.170; platform_system == \"Linux\" and platform_machine == \"x86_64\", but you have nvidia-cusparse-cu12 12.5.1.3 which is incompatible.\n",
      "torch 2.6.0+cu124 requires nvidia-nvjitlink-cu12==12.4.127; platform_system == \"Linux\" and platform_machine == \"x86_64\", but you have nvidia-nvjitlink-cu12 12.5.82 which is incompatible.\n",
      "gcsfs 2025.3.2 requires fsspec==2025.3.2, but you have fsspec 2025.3.0 which is incompatible.\u001b[0m\u001b[31m\n",
      "\u001b[0mSuccessfully installed datasets-3.6.0 fsspec-2025.3.0\n"
     ]
    }
   ],
   "source": [
    "# To make the dataset load in google colab without error\n",
    "!pip install -U datasets"
   ]
  },
  {
   "cell_type": "code",
   "execution_count": null,
   "metadata": {
    "colab": {
     "base_uri": "https://localhost:8080/"
    },
    "id": "aoZdeSmmFFE7",
    "outputId": "fdf29fc2-5ab7-4d34-c49d-ec6b10e59b3e"
   },
   "outputs": [
    {
     "name": "stdout",
     "output_type": "stream",
     "text": [
      "Collecting evaluate\n",
      "  Downloading evaluate-0.4.4-py3-none-any.whl.metadata (9.5 kB)\n",
      "Requirement already satisfied: datasets>=2.0.0 in /usr/local/lib/python3.11/dist-packages (from evaluate) (3.6.0)\n",
      "Requirement already satisfied: numpy>=1.17 in /usr/local/lib/python3.11/dist-packages (from evaluate) (2.0.2)\n",
      "Requirement already satisfied: dill in /usr/local/lib/python3.11/dist-packages (from evaluate) (0.3.7)\n",
      "Requirement already satisfied: pandas in /usr/local/lib/python3.11/dist-packages (from evaluate) (2.2.2)\n",
      "Requirement already satisfied: requests>=2.19.0 in /usr/local/lib/python3.11/dist-packages (from evaluate) (2.32.3)\n",
      "Requirement already satisfied: tqdm>=4.62.1 in /usr/local/lib/python3.11/dist-packages (from evaluate) (4.67.1)\n",
      "Requirement already satisfied: xxhash in /usr/local/lib/python3.11/dist-packages (from evaluate) (3.5.0)\n",
      "Requirement already satisfied: multiprocess in /usr/local/lib/python3.11/dist-packages (from evaluate) (0.70.15)\n",
      "Requirement already satisfied: fsspec>=2021.05.0 in /usr/local/lib/python3.11/dist-packages (from fsspec[http]>=2021.05.0->evaluate) (2025.3.0)\n",
      "Requirement already satisfied: huggingface-hub>=0.7.0 in /usr/local/lib/python3.11/dist-packages (from evaluate) (0.33.0)\n",
      "Requirement already satisfied: packaging in /usr/local/lib/python3.11/dist-packages (from evaluate) (24.2)\n",
      "Requirement already satisfied: filelock in /usr/local/lib/python3.11/dist-packages (from datasets>=2.0.0->evaluate) (3.18.0)\n",
      "Requirement already satisfied: pyarrow>=15.0.0 in /usr/local/lib/python3.11/dist-packages (from datasets>=2.0.0->evaluate) (18.1.0)\n",
      "Requirement already satisfied: pyyaml>=5.1 in /usr/local/lib/python3.11/dist-packages (from datasets>=2.0.0->evaluate) (6.0.2)\n",
      "Requirement already satisfied: aiohttp!=4.0.0a0,!=4.0.0a1 in /usr/local/lib/python3.11/dist-packages (from fsspec[http]>=2021.05.0->evaluate) (3.11.15)\n",
      "Requirement already satisfied: typing-extensions>=3.7.4.3 in /usr/local/lib/python3.11/dist-packages (from huggingface-hub>=0.7.0->evaluate) (4.14.0)\n",
      "Requirement already satisfied: hf-xet<2.0.0,>=1.1.2 in /usr/local/lib/python3.11/dist-packages (from huggingface-hub>=0.7.0->evaluate) (1.1.5)\n",
      "Requirement already satisfied: charset-normalizer<4,>=2 in /usr/local/lib/python3.11/dist-packages (from requests>=2.19.0->evaluate) (3.4.2)\n",
      "Requirement already satisfied: idna<4,>=2.5 in /usr/local/lib/python3.11/dist-packages (from requests>=2.19.0->evaluate) (3.10)\n",
      "Requirement already satisfied: urllib3<3,>=1.21.1 in /usr/local/lib/python3.11/dist-packages (from requests>=2.19.0->evaluate) (2.4.0)\n",
      "Requirement already satisfied: certifi>=2017.4.17 in /usr/local/lib/python3.11/dist-packages (from requests>=2.19.0->evaluate) (2025.6.15)\n",
      "Requirement already satisfied: python-dateutil>=2.8.2 in /usr/local/lib/python3.11/dist-packages (from pandas->evaluate) (2.9.0.post0)\n",
      "Requirement already satisfied: pytz>=2020.1 in /usr/local/lib/python3.11/dist-packages (from pandas->evaluate) (2025.2)\n",
      "Requirement already satisfied: tzdata>=2022.7 in /usr/local/lib/python3.11/dist-packages (from pandas->evaluate) (2025.2)\n",
      "Requirement already satisfied: aiohappyeyeballs>=2.3.0 in /usr/local/lib/python3.11/dist-packages (from aiohttp!=4.0.0a0,!=4.0.0a1->fsspec[http]>=2021.05.0->evaluate) (2.6.1)\n",
      "Requirement already satisfied: aiosignal>=1.1.2 in /usr/local/lib/python3.11/dist-packages (from aiohttp!=4.0.0a0,!=4.0.0a1->fsspec[http]>=2021.05.0->evaluate) (1.3.2)\n",
      "Requirement already satisfied: attrs>=17.3.0 in /usr/local/lib/python3.11/dist-packages (from aiohttp!=4.0.0a0,!=4.0.0a1->fsspec[http]>=2021.05.0->evaluate) (25.3.0)\n",
      "Requirement already satisfied: frozenlist>=1.1.1 in /usr/local/lib/python3.11/dist-packages (from aiohttp!=4.0.0a0,!=4.0.0a1->fsspec[http]>=2021.05.0->evaluate) (1.7.0)\n",
      "Requirement already satisfied: multidict<7.0,>=4.5 in /usr/local/lib/python3.11/dist-packages (from aiohttp!=4.0.0a0,!=4.0.0a1->fsspec[http]>=2021.05.0->evaluate) (6.4.4)\n",
      "Requirement already satisfied: propcache>=0.2.0 in /usr/local/lib/python3.11/dist-packages (from aiohttp!=4.0.0a0,!=4.0.0a1->fsspec[http]>=2021.05.0->evaluate) (0.3.2)\n",
      "Requirement already satisfied: yarl<2.0,>=1.17.0 in /usr/local/lib/python3.11/dist-packages (from aiohttp!=4.0.0a0,!=4.0.0a1->fsspec[http]>=2021.05.0->evaluate) (1.20.1)\n",
      "Requirement already satisfied: six>=1.5 in /usr/local/lib/python3.11/dist-packages (from python-dateutil>=2.8.2->pandas->evaluate) (1.17.0)\n",
      "Downloading evaluate-0.4.4-py3-none-any.whl (84 kB)\n",
      "\u001b[2K   \u001b[90m━━━━━━━━━━━━━━━━━━━━━━━━━━━━━━━━━━━━━━━━\u001b[0m \u001b[32m84.1/84.1 kB\u001b[0m \u001b[31m3.4 MB/s\u001b[0m eta \u001b[36m0:00:00\u001b[0m\n",
      "\u001b[?25hInstalling collected packages: evaluate\n",
      "Successfully installed evaluate-0.4.4\n"
     ]
    }
   ],
   "source": [
    "!pip install evaluate"
   ]
  },
  {
   "cell_type": "code",
   "execution_count": null,
   "metadata": {
    "colab": {
     "base_uri": "https://localhost:8080/",
     "height": 475,
     "referenced_widgets": [
      "f7eecb7fbdad472ca3a0e803a940cbe8",
      "cd5bc2f947ad4527ad04a00d89a43625",
      "c1556384860648dc9d7f25197febcd4d",
      "a672ca1048eb49c6b5025e83bf6cb95f",
      "2351ad5862dc4a34971aa20a15d7646c",
      "39ad0acf6abb4d37b5883cd7ac7b2378",
      "8f555398d29c479fa17dbfbba88e8ef6",
      "edbbf85282ad4df38fa36fafe5c8cd81",
      "3472a59c4de94671bd39a9a92a670747",
      "ec7052f822174c5794d864fcab78031d",
      "2455012e1e464067b76ab01835cc3576",
      "7f30f3c1d9c24f26ab720473f40487e3",
      "0cddee1ef7554a53906df074a0f0c8e3",
      "c870020b759f4b33bd77957e0fa0112d",
      "275a3667d6904dadb768fdda75476f43",
      "2102e528ea9e4aa7b53f18bdbaaca30f",
      "b1f9166bbab74323bfe85f0c7a96ed70",
      "35a917e4c4644fdead573cd0d1532685",
      "619b757bcc4a41da8e4217ca00b646a8",
      "36ae8d1f33e646d7bd6b6136d91e6b06",
      "aa929060b5e54d8fad5cfc9024763489",
      "80bec13cfc4f43b38b8297f8fec2fd35",
      "b57dd3f463164c29853ab16d5a0e35f8",
      "d3ddb57279ec47289b180523771c3dc0",
      "22a2ab0b31ec4206b15fed43db8891a6",
      "431e7ddacc864ec3bcf71444b549ec65",
      "11042c86b44645b6b3bcc98ed20e77f4",
      "7e53cff93ffe4ab1832aa4fb5eb3b56c",
      "2f4f001811c74a948c1e6710be8e4290",
      "0fdc2c9b768d449c82b504d1439bc37f",
      "ed4d876f7b034cb2912f00427919cd7c",
      "88490ab61f6b47839d6d38f34d62bb28",
      "acd6fb1953ce49d1888b09cb1fc5539a",
      "61bd41df0af44b4c9d8e1a3ae1f96a47",
      "f02b4861be6a473c85096ef0455343e0",
      "ef73117ffa174faf8b741d891c0a80be",
      "3ab6fe0541d24789bec032fa08437154",
      "0841beb1d6a24aec9ca0172bae756262",
      "d7fdb0f4e1d84ce9a20f6962ac20d6d5",
      "732fba61655246c7bb61e874f128a8d3",
      "9e42dafd445b4a4f98132f3d755f48c6",
      "0c0eb9b4a5b745328854381abfa445f8",
      "3890aef49048494fa90db7829680cc27",
      "e2d2fd630704493488391b6088f22224",
      "80cc4c61c17b4f83bbe878308a85f2f6",
      "f95c9804d26a4bf39095941e3e28484a",
      "d21d105f1f9e42bcb27170d7ed6bdb10",
      "cf042355681245e0ac4fcf2959ec9adc",
      "cca95a69e8b04ab6864e799b1cf5df7a",
      "73f830f1ca97478b925bfb84d7e0b4b5",
      "af5dc9ef7ad0439a903211db34053d54",
      "94fc58d11aa14a009c6d9115d0c518cc",
      "eab876b06f304a039371da9fdd15c2aa",
      "7efcbd75912c4ad582bb5b30faea4aef",
      "9df86843bcc241b2acbe83a36865d083"
     ]
    },
    "id": "apk-PPrP6-0C",
    "outputId": "b5475180-7f4b-414d-c9e0-69e51ffee945"
   },
   "outputs": [
    {
     "name": "stderr",
     "output_type": "stream",
     "text": [
      "/usr/local/lib/python3.11/dist-packages/huggingface_hub/utils/_auth.py:94: UserWarning: \n",
      "The secret `HF_TOKEN` does not exist in your Colab secrets.\n",
      "To authenticate with the Hugging Face Hub, create a token in your settings tab (https://huggingface.co/settings/tokens), set it as secret in your Google Colab and restart your session.\n",
      "You will be able to reuse this secret in all of your notebooks.\n",
      "Please note that authentication is recommended but still optional to access public models or datasets.\n",
      "  warnings.warn(\n"
     ]
    },
    {
     "data": {
      "application/vnd.jupyter.widget-view+json": {
       "model_id": "f7eecb7fbdad472ca3a0e803a940cbe8",
       "version_major": 2,
       "version_minor": 0
      },
      "text/plain": [
       "README.md: 0.00B [00:00, ?B/s]"
      ]
     },
     "metadata": {},
     "output_type": "display_data"
    },
    {
     "data": {
      "application/vnd.jupyter.widget-view+json": {
       "model_id": "7f30f3c1d9c24f26ab720473f40487e3",
       "version_major": 2,
       "version_minor": 0
      },
      "text/plain": [
       "train-00000-of-00001.parquet:   0%|          | 0.00/18.6M [00:00<?, ?B/s]"
      ]
     },
     "metadata": {},
     "output_type": "display_data"
    },
    {
     "data": {
      "application/vnd.jupyter.widget-view+json": {
       "model_id": "b57dd3f463164c29853ab16d5a0e35f8",
       "version_major": 2,
       "version_minor": 0
      },
      "text/plain": [
       "test-00000-of-00001.parquet:   0%|          | 0.00/1.23M [00:00<?, ?B/s]"
      ]
     },
     "metadata": {},
     "output_type": "display_data"
    },
    {
     "data": {
      "application/vnd.jupyter.widget-view+json": {
       "model_id": "61bd41df0af44b4c9d8e1a3ae1f96a47",
       "version_major": 2,
       "version_minor": 0
      },
      "text/plain": [
       "Generating train split:   0%|          | 0/120000 [00:00<?, ? examples/s]"
      ]
     },
     "metadata": {},
     "output_type": "display_data"
    },
    {
     "data": {
      "application/vnd.jupyter.widget-view+json": {
       "model_id": "80cc4c61c17b4f83bbe878308a85f2f6",
       "version_major": 2,
       "version_minor": 0
      },
      "text/plain": [
       "Generating test split:   0%|          | 0/7600 [00:00<?, ? examples/s]"
      ]
     },
     "metadata": {},
     "output_type": "display_data"
    },
    {
     "data": {
      "text/plain": [
       "DatasetDict({\n",
       "    train: Dataset({\n",
       "        features: ['text', 'label'],\n",
       "        num_rows: 120000\n",
       "    })\n",
       "    test: Dataset({\n",
       "        features: ['text', 'label'],\n",
       "        num_rows: 7600\n",
       "    })\n",
       "})"
      ]
     },
     "execution_count": 2,
     "metadata": {},
     "output_type": "execute_result"
    }
   ],
   "source": [
    "from datasets import load_dataset\n",
    "\n",
    "ds = load_dataset(\"fancyzhx/ag_news\")\n",
    "ds"
   ]
  },
  {
   "cell_type": "code",
   "execution_count": null,
   "metadata": {
    "colab": {
     "base_uri": "https://localhost:8080/",
     "height": 206
    },
    "id": "DYrd8gQL7u_K",
    "outputId": "c88c0cb4-b295-49ca-fb4d-0eb23c601a68"
   },
   "outputs": [
    {
     "data": {
      "application/vnd.google.colaboratory.intrinsic+json": {
       "type": "dataframe",
       "variable_name": "df"
      },
      "text/html": [
       "\n",
       "  <div id=\"df-41ad07f2-d446-48ff-8d76-0e2c69f83c10\" class=\"colab-df-container\">\n",
       "    <div>\n",
       "<style scoped>\n",
       "    .dataframe tbody tr th:only-of-type {\n",
       "        vertical-align: middle;\n",
       "    }\n",
       "\n",
       "    .dataframe tbody tr th {\n",
       "        vertical-align: top;\n",
       "    }\n",
       "\n",
       "    .dataframe thead th {\n",
       "        text-align: right;\n",
       "    }\n",
       "</style>\n",
       "<table border=\"1\" class=\"dataframe\">\n",
       "  <thead>\n",
       "    <tr style=\"text-align: right;\">\n",
       "      <th></th>\n",
       "      <th>text</th>\n",
       "      <th>label</th>\n",
       "    </tr>\n",
       "  </thead>\n",
       "  <tbody>\n",
       "    <tr>\n",
       "      <th>0</th>\n",
       "      <td>Wall St. Bears Claw Back Into the Black (Reute...</td>\n",
       "      <td>2</td>\n",
       "    </tr>\n",
       "    <tr>\n",
       "      <th>1</th>\n",
       "      <td>Carlyle Looks Toward Commercial Aerospace (Reu...</td>\n",
       "      <td>2</td>\n",
       "    </tr>\n",
       "    <tr>\n",
       "      <th>2</th>\n",
       "      <td>Oil and Economy Cloud Stocks' Outlook (Reuters...</td>\n",
       "      <td>2</td>\n",
       "    </tr>\n",
       "    <tr>\n",
       "      <th>3</th>\n",
       "      <td>Iraq Halts Oil Exports from Main Southern Pipe...</td>\n",
       "      <td>2</td>\n",
       "    </tr>\n",
       "    <tr>\n",
       "      <th>4</th>\n",
       "      <td>Oil prices soar to all-time record, posing new...</td>\n",
       "      <td>2</td>\n",
       "    </tr>\n",
       "  </tbody>\n",
       "</table>\n",
       "</div>\n",
       "    <div class=\"colab-df-buttons\">\n",
       "\n",
       "  <div class=\"colab-df-container\">\n",
       "    <button class=\"colab-df-convert\" onclick=\"convertToInteractive('df-41ad07f2-d446-48ff-8d76-0e2c69f83c10')\"\n",
       "            title=\"Convert this dataframe to an interactive table.\"\n",
       "            style=\"display:none;\">\n",
       "\n",
       "  <svg xmlns=\"http://www.w3.org/2000/svg\" height=\"24px\" viewBox=\"0 -960 960 960\">\n",
       "    <path d=\"M120-120v-720h720v720H120Zm60-500h600v-160H180v160Zm220 220h160v-160H400v160Zm0 220h160v-160H400v160ZM180-400h160v-160H180v160Zm440 0h160v-160H620v160ZM180-180h160v-160H180v160Zm440 0h160v-160H620v160Z\"/>\n",
       "  </svg>\n",
       "    </button>\n",
       "\n",
       "  <style>\n",
       "    .colab-df-container {\n",
       "      display:flex;\n",
       "      gap: 12px;\n",
       "    }\n",
       "\n",
       "    .colab-df-convert {\n",
       "      background-color: #E8F0FE;\n",
       "      border: none;\n",
       "      border-radius: 50%;\n",
       "      cursor: pointer;\n",
       "      display: none;\n",
       "      fill: #1967D2;\n",
       "      height: 32px;\n",
       "      padding: 0 0 0 0;\n",
       "      width: 32px;\n",
       "    }\n",
       "\n",
       "    .colab-df-convert:hover {\n",
       "      background-color: #E2EBFA;\n",
       "      box-shadow: 0px 1px 2px rgba(60, 64, 67, 0.3), 0px 1px 3px 1px rgba(60, 64, 67, 0.15);\n",
       "      fill: #174EA6;\n",
       "    }\n",
       "\n",
       "    .colab-df-buttons div {\n",
       "      margin-bottom: 4px;\n",
       "    }\n",
       "\n",
       "    [theme=dark] .colab-df-convert {\n",
       "      background-color: #3B4455;\n",
       "      fill: #D2E3FC;\n",
       "    }\n",
       "\n",
       "    [theme=dark] .colab-df-convert:hover {\n",
       "      background-color: #434B5C;\n",
       "      box-shadow: 0px 1px 3px 1px rgba(0, 0, 0, 0.15);\n",
       "      filter: drop-shadow(0px 1px 2px rgba(0, 0, 0, 0.3));\n",
       "      fill: #FFFFFF;\n",
       "    }\n",
       "  </style>\n",
       "\n",
       "    <script>\n",
       "      const buttonEl =\n",
       "        document.querySelector('#df-41ad07f2-d446-48ff-8d76-0e2c69f83c10 button.colab-df-convert');\n",
       "      buttonEl.style.display =\n",
       "        google.colab.kernel.accessAllowed ? 'block' : 'none';\n",
       "\n",
       "      async function convertToInteractive(key) {\n",
       "        const element = document.querySelector('#df-41ad07f2-d446-48ff-8d76-0e2c69f83c10');\n",
       "        const dataTable =\n",
       "          await google.colab.kernel.invokeFunction('convertToInteractive',\n",
       "                                                    [key], {});\n",
       "        if (!dataTable) return;\n",
       "\n",
       "        const docLinkHtml = 'Like what you see? Visit the ' +\n",
       "          '<a target=\"_blank\" href=https://colab.research.google.com/notebooks/data_table.ipynb>data table notebook</a>'\n",
       "          + ' to learn more about interactive tables.';\n",
       "        element.innerHTML = '';\n",
       "        dataTable['output_type'] = 'display_data';\n",
       "        await google.colab.output.renderOutput(dataTable, element);\n",
       "        const docLink = document.createElement('div');\n",
       "        docLink.innerHTML = docLinkHtml;\n",
       "        element.appendChild(docLink);\n",
       "      }\n",
       "    </script>\n",
       "  </div>\n",
       "\n",
       "\n",
       "    <div id=\"df-8cc4c36a-cea2-4c55-b993-e917924fceda\">\n",
       "      <button class=\"colab-df-quickchart\" onclick=\"quickchart('df-8cc4c36a-cea2-4c55-b993-e917924fceda')\"\n",
       "                title=\"Suggest charts\"\n",
       "                style=\"display:none;\">\n",
       "\n",
       "<svg xmlns=\"http://www.w3.org/2000/svg\" height=\"24px\"viewBox=\"0 0 24 24\"\n",
       "     width=\"24px\">\n",
       "    <g>\n",
       "        <path d=\"M19 3H5c-1.1 0-2 .9-2 2v14c0 1.1.9 2 2 2h14c1.1 0 2-.9 2-2V5c0-1.1-.9-2-2-2zM9 17H7v-7h2v7zm4 0h-2V7h2v10zm4 0h-2v-4h2v4z\"/>\n",
       "    </g>\n",
       "</svg>\n",
       "      </button>\n",
       "\n",
       "<style>\n",
       "  .colab-df-quickchart {\n",
       "      --bg-color: #E8F0FE;\n",
       "      --fill-color: #1967D2;\n",
       "      --hover-bg-color: #E2EBFA;\n",
       "      --hover-fill-color: #174EA6;\n",
       "      --disabled-fill-color: #AAA;\n",
       "      --disabled-bg-color: #DDD;\n",
       "  }\n",
       "\n",
       "  [theme=dark] .colab-df-quickchart {\n",
       "      --bg-color: #3B4455;\n",
       "      --fill-color: #D2E3FC;\n",
       "      --hover-bg-color: #434B5C;\n",
       "      --hover-fill-color: #FFFFFF;\n",
       "      --disabled-bg-color: #3B4455;\n",
       "      --disabled-fill-color: #666;\n",
       "  }\n",
       "\n",
       "  .colab-df-quickchart {\n",
       "    background-color: var(--bg-color);\n",
       "    border: none;\n",
       "    border-radius: 50%;\n",
       "    cursor: pointer;\n",
       "    display: none;\n",
       "    fill: var(--fill-color);\n",
       "    height: 32px;\n",
       "    padding: 0;\n",
       "    width: 32px;\n",
       "  }\n",
       "\n",
       "  .colab-df-quickchart:hover {\n",
       "    background-color: var(--hover-bg-color);\n",
       "    box-shadow: 0 1px 2px rgba(60, 64, 67, 0.3), 0 1px 3px 1px rgba(60, 64, 67, 0.15);\n",
       "    fill: var(--button-hover-fill-color);\n",
       "  }\n",
       "\n",
       "  .colab-df-quickchart-complete:disabled,\n",
       "  .colab-df-quickchart-complete:disabled:hover {\n",
       "    background-color: var(--disabled-bg-color);\n",
       "    fill: var(--disabled-fill-color);\n",
       "    box-shadow: none;\n",
       "  }\n",
       "\n",
       "  .colab-df-spinner {\n",
       "    border: 2px solid var(--fill-color);\n",
       "    border-color: transparent;\n",
       "    border-bottom-color: var(--fill-color);\n",
       "    animation:\n",
       "      spin 1s steps(1) infinite;\n",
       "  }\n",
       "\n",
       "  @keyframes spin {\n",
       "    0% {\n",
       "      border-color: transparent;\n",
       "      border-bottom-color: var(--fill-color);\n",
       "      border-left-color: var(--fill-color);\n",
       "    }\n",
       "    20% {\n",
       "      border-color: transparent;\n",
       "      border-left-color: var(--fill-color);\n",
       "      border-top-color: var(--fill-color);\n",
       "    }\n",
       "    30% {\n",
       "      border-color: transparent;\n",
       "      border-left-color: var(--fill-color);\n",
       "      border-top-color: var(--fill-color);\n",
       "      border-right-color: var(--fill-color);\n",
       "    }\n",
       "    40% {\n",
       "      border-color: transparent;\n",
       "      border-right-color: var(--fill-color);\n",
       "      border-top-color: var(--fill-color);\n",
       "    }\n",
       "    60% {\n",
       "      border-color: transparent;\n",
       "      border-right-color: var(--fill-color);\n",
       "    }\n",
       "    80% {\n",
       "      border-color: transparent;\n",
       "      border-right-color: var(--fill-color);\n",
       "      border-bottom-color: var(--fill-color);\n",
       "    }\n",
       "    90% {\n",
       "      border-color: transparent;\n",
       "      border-bottom-color: var(--fill-color);\n",
       "    }\n",
       "  }\n",
       "</style>\n",
       "\n",
       "      <script>\n",
       "        async function quickchart(key) {\n",
       "          const quickchartButtonEl =\n",
       "            document.querySelector('#' + key + ' button');\n",
       "          quickchartButtonEl.disabled = true;  // To prevent multiple clicks.\n",
       "          quickchartButtonEl.classList.add('colab-df-spinner');\n",
       "          try {\n",
       "            const charts = await google.colab.kernel.invokeFunction(\n",
       "                'suggestCharts', [key], {});\n",
       "          } catch (error) {\n",
       "            console.error('Error during call to suggestCharts:', error);\n",
       "          }\n",
       "          quickchartButtonEl.classList.remove('colab-df-spinner');\n",
       "          quickchartButtonEl.classList.add('colab-df-quickchart-complete');\n",
       "        }\n",
       "        (() => {\n",
       "          let quickchartButtonEl =\n",
       "            document.querySelector('#df-8cc4c36a-cea2-4c55-b993-e917924fceda button');\n",
       "          quickchartButtonEl.style.display =\n",
       "            google.colab.kernel.accessAllowed ? 'block' : 'none';\n",
       "        })();\n",
       "      </script>\n",
       "    </div>\n",
       "\n",
       "    </div>\n",
       "  </div>\n"
      ],
      "text/plain": [
       "                                                text  label\n",
       "0  Wall St. Bears Claw Back Into the Black (Reute...      2\n",
       "1  Carlyle Looks Toward Commercial Aerospace (Reu...      2\n",
       "2  Oil and Economy Cloud Stocks' Outlook (Reuters...      2\n",
       "3  Iraq Halts Oil Exports from Main Southern Pipe...      2\n",
       "4  Oil prices soar to all-time record, posing new...      2"
      ]
     },
     "execution_count": 3,
     "metadata": {},
     "output_type": "execute_result"
    }
   ],
   "source": [
    "import pandas as pd\n",
    "\n",
    "df = pd.DataFrame(ds[\"train\"])\n",
    "df.head()"
   ]
  },
  {
   "cell_type": "code",
   "execution_count": null,
   "metadata": {
    "colab": {
     "base_uri": "https://localhost:8080/"
    },
    "id": "8OMnXjIHESrJ",
    "outputId": "91fabeeb-c0c0-4a3d-c690-5c427732ca9e"
   },
   "outputs": [
    {
     "data": {
      "text/plain": [
       "array([2, 3, 1, 0])"
      ]
     },
     "execution_count": 4,
     "metadata": {},
     "output_type": "execute_result"
    }
   ],
   "source": [
    "df[\"label\"].unique()"
   ]
  },
  {
   "cell_type": "code",
   "execution_count": null,
   "metadata": {
    "id": "8hbbJEQ9EV_a"
   },
   "outputs": [],
   "source": [
    "labels = {0: \"World\", 1: \"Sports\", 2: \"Business\", 3: \"Sci/Tech\"}"
   ]
  },
  {
   "cell_type": "code",
   "execution_count": null,
   "metadata": {
    "colab": {
     "base_uri": "https://localhost:8080/"
    },
    "id": "7qiRxw4QEZbg",
    "outputId": "f1860ad9-467e-4de0-a673-7e96c5657e9d"
   },
   "outputs": [
    {
     "name": "stdout",
     "output_type": "stream",
     "text": [
      "Text: Wall St. Bears Claw Back Into the Black (Reuters) Reuters - Short-sellers, Wall Street's dwindling\\band of ultra-cynics, are seeing green again.\n",
      "Label: Business\n"
     ]
    }
   ],
   "source": [
    "print(f\"Text: { df['text'][0] }\")\n",
    "print(f\"Label: { labels[df['label'][0]] }\")"
   ]
  },
  {
   "cell_type": "code",
   "execution_count": null,
   "metadata": {
    "colab": {
     "base_uri": "https://localhost:8080/",
     "height": 407
    },
    "id": "dPhT2uTzElGC",
    "outputId": "ccec05e6-0b22-490c-9cca-6532c046af33"
   },
   "outputs": [
    {
     "data": {
      "image/png": "[encoded data removed]",
      "text/plain": [
       "<Figure size 600x400 with 1 Axes>"
      ]
     },
     "metadata": {},
     "output_type": "display_data"
    }
   ],
   "source": [
    "import matplotlib.pyplot as plt\n",
    "\n",
    "\n",
    "label_counts = df[\"label\"].value_counts()\n",
    "\n",
    "plt.figure(figsize=(6, 4))\n",
    "label_counts.plot(kind=\"bar\", color=\"skyblue\")\n",
    "\n",
    "plt.title(\"Label Distribution\")\n",
    "plt.xlabel(\"Labels\")\n",
    "plt.ylabel(\"Counts\")\n",
    "plt.xticks(rotation=0)\n",
    "plt.tight_layout()\n",
    "plt.show()"
   ]
  },
  {
   "cell_type": "code",
   "execution_count": null,
   "metadata": {
    "id": "e4i-Ls5cErEi"
   },
   "outputs": [],
   "source": [
    "from sklearn.model_selection import train_test_split\n",
    "\n",
    "train_df, test_df = train_test_split(df, test_size=0.2, stratify=df[\"label\"], random_state=42)"
   ]
  },
  {
   "cell_type": "code",
   "execution_count": null,
   "metadata": {
    "colab": {
     "base_uri": "https://localhost:8080/"
    },
    "id": "8BZaH0F0EtrD",
    "outputId": "fe63dc4c-9406-4115-8557-0eb162631eeb"
   },
   "outputs": [
    {
     "data": {
      "text/plain": [
       "DatasetDict({\n",
       "    train: Dataset({\n",
       "        features: ['text', 'label'],\n",
       "        num_rows: 96000\n",
       "    })\n",
       "    test: Dataset({\n",
       "        features: ['text', 'label'],\n",
       "        num_rows: 24000\n",
       "    })\n",
       "    eval: Dataset({\n",
       "        features: ['text', 'label'],\n",
       "        num_rows: 7600\n",
       "    })\n",
       "})"
      ]
     },
     "execution_count": 9,
     "metadata": {},
     "output_type": "execute_result"
    }
   ],
   "source": [
    "from datasets import Dataset, DatasetDict\n",
    "\n",
    "train_ds = Dataset.from_pandas(train_df)\n",
    "test_ds = Dataset.from_pandas(test_df)\n",
    "\n",
    "final_ds = DatasetDict({\n",
    "    \"train\": train_ds.remove_columns(\"__index_level_0__\"),\n",
    "    \"test\": test_ds.remove_columns(\"__index_level_0__\"),\n",
    "    \"eval\": ds[\"test\"]\n",
    "})\n",
    "\n",
    "final_ds"
   ]
  },
  {
   "cell_type": "code",
   "execution_count": null,
   "metadata": {
    "id": "Pw0kKEuiEv-2"
   },
   "outputs": [],
   "source": [
    "model = \"distilbert-base-uncased\""
   ]
  },
  {
   "cell_type": "code",
   "execution_count": null,
   "metadata": {
    "colab": {
     "base_uri": "https://localhost:8080/",
     "height": 209,
     "referenced_widgets": [
      "f8ba5f4ff4da462483629b205b376cae",
      "4a1c6999ba144d349cd872e6567c46d8",
      "296d4a6cc10249bda66f0a9dc30c6282",
      "a12a211c989e48669fd10efc7dd5ff15",
      "5be78ec8af724de3b02fb71d8e1be197",
      "1df2758e321a4eb192c46f86c6128f95",
      "6a0b6eb383604cea9ed2681ab39f32f8",
      "212e0f4680a0470db3cb19010cdf5126",
      "2ba2db20a47d439eb6651db80c384df8",
      "6031ed69b3e349f388cd35da001801dd",
      "31eb48a58e934cd2b9b17cac428a9303",
      "33c30818024b405ba09143e5ec919c3a",
      "f957c3dbc3314509b21b6bf0baaa62a5",
      "86e4f7e2c87c479d878f45d6034b7df9",
      "e7b5b1eb00f64ce8a2ff41e0209ab639",
      "dde83974a86642a6ac8acc5dbe58f0a6",
      "ad5473a274f444f1962f26ee789579a1",
      "e2be9d89204045cd964096e963c0555d",
      "6bdcf28be3874ef69a13b63d5f98c9ca",
      "c24717b0300d44a9b005dad0092ca5b1",
      "d30ab1511e6a4f6081d4ba9c8ca8cae9",
      "0e7ba479e2b9473aa10d90e852620b1f",
      "d70518ba13aa4d8180cb601f45804781",
      "1ff4ae3b27444aaf87b9b33ecfa7ade5",
      "b0a2b118df824c519b153cd9f413ca13",
      "d08ad367feb74cb4857c1e04d4f294f8",
      "e2d9d8400100427db3f872397bb16d46",
      "82e2658dee934a0f8add945fc5da9d76",
      "c8972dc0903a4cbfb2352e4e62d3a079",
      "58f2c09eda55484f98015afca96940b0",
      "6c5feee8f71d484aa0d6a87d98df22f9",
      "bf657caa0abd47cebbeba3a7fe1749dd",
      "455252ee6fe24c7687a2b7c6e5e6929b",
      "b5fbce2b4f074effb19ee13c199d5f1c",
      "782aa833f1d3410aa801855603d0e8d5",
      "792b1595af0e48209fc85c7faa8b2de1",
      "96cab78d3b7844108ac8c786e5550f4d",
      "33c018527eaf4c9dbfb0c79f3253e78a",
      "4f87643ea9ac4aecb43e4f72310044d0",
      "fe842ba55adf4cb8acb507e8d8eb5a1a",
      "8210cff0350143b990673e9d94988dff",
      "b261bb285d8542ed84f5f7777bba667e",
      "a84018cf4cba46cfa294ec67ae717478",
      "de2c0e34ca884b7f92f6e64c49bb5caa",
      "74ea4ac98f6549d09d4e37db58044a37",
      "da8bc43c3d0847f18af2b5fc7d96cdbf",
      "11e766b716af456c86fda39faa06d3f1",
      "89f777a3009d4a86840bcb533fd94194",
      "e907f1cb8d3f48e28eec58e36e91514d",
      "f9ea9ac6d37d402abcd221f38b5bd6aa",
      "a222d285f6494778a262b0037602b487",
      "9184b105a5494978ba484889ac6cac40",
      "c7b0cf98a96a4d498a5fbd93f0b785ce",
      "db712f5305044133aacc604480b3c08e",
      "690a2d51419c46379d8c11fb4eb77226",
      "6dc5ea17deba4f4fa0c0149e327fda9a",
      "18a9ee19849f49d6965cbc44a02bef90",
      "46ab226b231e4c10aafd34966eec4a5f",
      "361d551c11b74b1399fa5fcfb82ded6e",
      "9824bea1f5704db3b72c0c2632a3d1cc",
      "867073cb44a6457e9cde5b1e46668e93",
      "cacbb182c6194d62b17d26ab6d7a5e37",
      "7fd8e22a784d46a0bd6945187b93c6cd",
      "0210a85d411c425288cbb4311462cca6",
      "96094be632284aaeaa73fb129bdeaae3",
      "e6e7e0912ba04aa49b605a03eaa2d963"
     ]
    },
    "id": "jtJW-bkgEyfo",
    "outputId": "d73a0877-28c8-4616-b460-eb9262dddeb5"
   },
   "outputs": [
    {
     "data": {
      "application/vnd.jupyter.widget-view+json": {
       "model_id": "f8ba5f4ff4da462483629b205b376cae",
       "version_major": 2,
       "version_minor": 0
      },
      "text/plain": [
       "tokenizer_config.json:   0%|          | 0.00/48.0 [00:00<?, ?B/s]"
      ]
     },
     "metadata": {},
     "output_type": "display_data"
    },
    {
     "data": {
      "application/vnd.jupyter.widget-view+json": {
       "model_id": "33c30818024b405ba09143e5ec919c3a",
       "version_major": 2,
       "version_minor": 0
      },
      "text/plain": [
       "config.json:   0%|          | 0.00/483 [00:00<?, ?B/s]"
      ]
     },
     "metadata": {},
     "output_type": "display_data"
    },
    {
     "data": {
      "application/vnd.jupyter.widget-view+json": {
       "model_id": "d70518ba13aa4d8180cb601f45804781",
       "version_major": 2,
       "version_minor": 0
      },
      "text/plain": [
       "vocab.txt:   0%|          | 0.00/232k [00:00<?, ?B/s]"
      ]
     },
     "metadata": {},
     "output_type": "display_data"
    },
    {
     "data": {
      "application/vnd.jupyter.widget-view+json": {
       "model_id": "b5fbce2b4f074effb19ee13c199d5f1c",
       "version_major": 2,
       "version_minor": 0
      },
      "text/plain": [
       "tokenizer.json:   0%|          | 0.00/466k [00:00<?, ?B/s]"
      ]
     },
     "metadata": {},
     "output_type": "display_data"
    },
    {
     "data": {
      "application/vnd.jupyter.widget-view+json": {
       "model_id": "74ea4ac98f6549d09d4e37db58044a37",
       "version_major": 2,
       "version_minor": 0
      },
      "text/plain": [
       "Map:   0%|          | 0/120000 [00:00<?, ? examples/s]"
      ]
     },
     "metadata": {},
     "output_type": "display_data"
    },
    {
     "data": {
      "application/vnd.jupyter.widget-view+json": {
       "model_id": "6dc5ea17deba4f4fa0c0149e327fda9a",
       "version_major": 2,
       "version_minor": 0
      },
      "text/plain": [
       "Map:   0%|          | 0/7600 [00:00<?, ? examples/s]"
      ]
     },
     "metadata": {},
     "output_type": "display_data"
    }
   ],
   "source": [
    "from transformers import AutoTokenizer\n",
    "\n",
    "tokenizer = AutoTokenizer.from_pretrained(model)\n",
    "\n",
    "def preprocessing(data):\n",
    "    return tokenizer(data[\"text\"], truncation=True, padding=\"longest\")\n",
    "\n",
    "tokenized_ds = ds.map(preprocessing, batched=True)"
   ]
  },
  {
   "cell_type": "code",
   "execution_count": null,
   "metadata": {
    "colab": {
     "base_uri": "https://localhost:8080/",
     "height": 694,
     "referenced_widgets": [
      "69c5c9af4a30438cbbb453b4ecb54422",
      "00b14e9184744fb09380290c54762a0a",
      "5cf94ce6d5df4fbbb2075020111ce3ae",
      "1124214f83b34a8195dec00cbb0c31a2",
      "eaf93add1c5d47eeab25405718234d20",
      "61383e83be464315a6147eb96086d942",
      "a90771b5fd5a462b88abf61a844db311",
      "02d8c6652e6545e2b35f19ec6c0713c4",
      "0ff93467fe30432da0064d4d7265d7d3",
      "338531fe3f424079889f36c023cf3031",
      "aedfc98eb0634b14854fbbc5234753b8"
     ]
    },
    "id": "7LBECKJ0E0VK",
    "outputId": "3e41330f-9b36-4286-803b-cb974f2428a2"
   },
   "outputs": [
    {
     "data": {
      "application/vnd.jupyter.widget-view+json": {
       "model_id": "69c5c9af4a30438cbbb453b4ecb54422",
       "version_major": 2,
       "version_minor": 0
      },
      "text/plain": [
       "model.safetensors:   0%|          | 0.00/268M [00:00<?, ?B/s]"
      ]
     },
     "metadata": {},
     "output_type": "display_data"
    },
    {
     "name": "stderr",
     "output_type": "stream",
     "text": [
      "Some weights of DistilBertForSequenceClassification were not initialized from the model checkpoint at distilbert-base-uncased and are newly initialized: ['classifier.bias', 'classifier.weight', 'pre_classifier.bias', 'pre_classifier.weight']\n",
      "You should probably TRAIN this model on a down-stream task to be able to use it for predictions and inference.\n"
     ]
    },
    {
     "data": {
      "text/plain": [
       "DistilBertForSequenceClassification(\n",
       "  (distilbert): DistilBertModel(\n",
       "    (embeddings): Embeddings(\n",
       "      (word_embeddings): Embedding(30522, 768, padding_idx=0)\n",
       "      (position_embeddings): Embedding(512, 768)\n",
       "      (LayerNorm): LayerNorm((768,), eps=1e-12, elementwise_affine=True)\n",
       "      (dropout): Dropout(p=0.1, inplace=False)\n",
       "    )\n",
       "    (transformer): Transformer(\n",
       "      (layer): ModuleList(\n",
       "        (0-5): 6 x TransformerBlock(\n",
       "          (attention): DistilBertSdpaAttention(\n",
       "            (dropout): Dropout(p=0.1, inplace=False)\n",
       "            (q_lin): Linear(in_features=768, out_features=768, bias=True)\n",
       "            (k_lin): Linear(in_features=768, out_features=768, bias=True)\n",
       "            (v_lin): Linear(in_features=768, out_features=768, bias=True)\n",
       "            (out_lin): Linear(in_features=768, out_features=768, bias=True)\n",
       "          )\n",
       "          (sa_layer_norm): LayerNorm((768,), eps=1e-12, elementwise_affine=True)\n",
       "          (ffn): FFN(\n",
       "            (dropout): Dropout(p=0.1, inplace=False)\n",
       "            (lin1): Linear(in_features=768, out_features=3072, bias=True)\n",
       "            (lin2): Linear(in_features=3072, out_features=768, bias=True)\n",
       "            (activation): GELUActivation()\n",
       "          )\n",
       "          (output_layer_norm): LayerNorm((768,), eps=1e-12, elementwise_affine=True)\n",
       "        )\n",
       "      )\n",
       "    )\n",
       "  )\n",
       "  (pre_classifier): Linear(in_features=768, out_features=768, bias=True)\n",
       "  (classifier): Linear(in_features=768, out_features=4, bias=True)\n",
       "  (dropout): Dropout(p=0.2, inplace=False)\n",
       ")"
      ]
     },
     "execution_count": 12,
     "metadata": {},
     "output_type": "execute_result"
    }
   ],
   "source": [
    "from transformers import AutoModelForSequenceClassification\n",
    "\n",
    "model = AutoModelForSequenceClassification.from_pretrained(model, num_labels=4)\n",
    "model"
   ]
  },
  {
   "cell_type": "code",
   "execution_count": null,
   "metadata": {
    "id": "ACnKNGjVFBHg"
   },
   "outputs": [],
   "source": [
    "import evaluate\n",
    "import numpy as np\n",
    "\n",
    "accuracy = evaluate.load(\"accuracy\")\n",
    "f1 = evaluate.load(\"f1\")\n",
    "\n",
    "def compute_metrics(eval_pred):\n",
    "    logits, labels = eval_pred\n",
    "    predictions = np.argmax(logits, axis=-1)\n",
    "    return {\n",
    "        \"accuracy\": accuracy.compute(predictions=predictions, references=labels)[\"accuracy\"],\n",
    "        \"f1_macro\": f1.compute(predictions=predictions, references=labels, average=\"macro\")[\"f1\"],\n",
    "        \"f1_weighted\": f1.compute(predictions=predictions, references=labels, average=\"weighted\")[\"f1\"],\n",
    "    }"
   ]
  },
  {
   "cell_type": "code",
   "execution_count": null,
   "metadata": {
    "colab": {
     "base_uri": "https://localhost:8080/"
    },
    "id": "Nla9SHIrPv0u",
    "outputId": "6697692f-0fb1-4e66-88e3-426d01139aca"
   },
   "outputs": [
    {
     "name": "stdout",
     "output_type": "stream",
     "text": [
      "Mounted at /content/drive\n"
     ]
    }
   ],
   "source": [
    "from google.colab import drive\n",
    "drive.mount('/content/drive')"
   ]
  },
  {
   "cell_type": "code",
   "execution_count": null,
   "metadata": {
    "colab": {
     "base_uri": "https://localhost:8080/"
    },
    "id": "Gfv35nKDFL2P",
    "outputId": "2355e8ca-2e42-4cfb-9efc-06bc3c3f4f5b"
   },
   "outputs": [
    {
     "name": "stderr",
     "output_type": "stream",
     "text": [
      "/tmp/ipython-input-38-2916210193.py:23: FutureWarning: `tokenizer` is deprecated and will be removed in version 5.0.0 for `Trainer.__init__`. Use `processing_class` instead.\n",
      "  trainer = Trainer(\n"
     ]
    }
   ],
   "source": [
    "from transformers import TrainingArguments, Trainer\n",
    "\n",
    "training_args = TrainingArguments(\n",
    "    output_dir=\"/content/drive/MyDrive/my_model_checkpoints\",\n",
    "    eval_strategy=\"epoch\",\n",
    "    save_strategy=\"epoch\",\n",
    "    report_to=\"wandb\",\n",
    "    learning_rate=1e-5,\n",
    "    per_device_train_batch_size=64,\n",
    "    per_device_eval_batch_size=64,\n",
    "    num_train_epochs=3,\n",
    "    weight_decay=0.01,\n",
    "    logging_dir=\"./logs\",\n",
    "    load_best_model_at_end=True,\n",
    "    metric_for_best_model=\"accuracy\",\n",
    "    logging_steps=10,\n",
    "    disable_tqdm=False,\n",
    "    warmup_ratio=0.1,                          # Helps stabilize early training\n",
    "    max_grad_norm=1.0,                         # Clips gradient to avoid spikes\n",
    "    fp16=True                                  # Mixed precision for stability + speed (GPU only)\n",
    ")\n",
    "\n",
    "trainer = Trainer(\n",
    "    model=model,\n",
    "    args=training_args,\n",
    "    train_dataset=tokenized_ds[\"train\"],\n",
    "    eval_dataset=tokenized_ds[\"test\"],\n",
    "    tokenizer=tokenizer,\n",
    "    compute_metrics=compute_metrics\n",
    ")"
   ]
  },
  {
   "cell_type": "code",
   "execution_count": null,
   "metadata": {
    "colab": {
     "base_uri": "https://localhost:8080/",
     "height": 221
    },
    "id": "F9YHl18bFOgN",
    "outputId": "02de0bb6-ff94-4b28-910b-13373ccc57c9"
   },
   "outputs": [
    {
     "data": {
      "text/html": [
       "\n",
       "    <div>\n",
       "      \n",
       "      <progress value='5625' max='5625' style='width:300px; height:20px; vertical-align: middle;'></progress>\n",
       "      [5625/5625 48:15, Epoch 3/3]\n",
       "    </div>\n",
       "    <table border=\"1\" class=\"dataframe\">\n",
       "  <thead>\n",
       " <tr style=\"text-align: left;\">\n",
       "      <th>Epoch</th>\n",
       "      <th>Training Loss</th>\n",
       "      <th>Validation Loss</th>\n",
       "      <th>Accuracy</th>\n",
       "      <th>F1 Macro</th>\n",
       "      <th>F1 Weighted</th>\n",
       "    </tr>\n",
       "  </thead>\n",
       "  <tbody>\n",
       "    <tr>\n",
       "      <td>1</td>\n",
       "      <td>0.153200</td>\n",
       "      <td>0.216665</td>\n",
       "      <td>0.932237</td>\n",
       "      <td>0.932331</td>\n",
       "      <td>0.932331</td>\n",
       "    </tr>\n",
       "    <tr>\n",
       "      <td>2</td>\n",
       "      <td>0.085800</td>\n",
       "      <td>0.191335</td>\n",
       "      <td>0.941316</td>\n",
       "      <td>0.941437</td>\n",
       "      <td>0.941437</td>\n",
       "    </tr>\n",
       "    <tr>\n",
       "      <td>3</td>\n",
       "      <td>0.068200</td>\n",
       "      <td>0.201479</td>\n",
       "      <td>0.942237</td>\n",
       "      <td>0.942278</td>\n",
       "      <td>0.942278</td>\n",
       "    </tr>\n",
       "  </tbody>\n",
       "</table><p>"
      ],
      "text/plain": [
       "<IPython.core.display.HTML object>"
      ]
     },
     "metadata": {},
     "output_type": "display_data"
    },
    {
     "data": {
      "text/plain": [
       "TrainOutput(global_step=5625, training_loss=0.09020792372491625, metrics={'train_runtime': 2895.8315, 'train_samples_per_second': 124.317, 'train_steps_per_second': 1.942, 'total_flos': 3.438184802319053e+16, 'train_loss': 0.09020792372491625, 'epoch': 3.0})"
      ]
     },
     "execution_count": 40,
     "metadata": {},
     "output_type": "execute_result"
    }
   ],
   "source": [
    "trainer.train(resume_from_checkpoint=True)"
   ]
  },
  {
   "cell_type": "code",
   "execution_count": null,
   "metadata": {
    "colab": {
     "base_uri": "https://localhost:8080/",
     "height": 74
    },
    "id": "p5S1_in0FUua",
    "outputId": "2af7b143-22d4-4fea-a589-1fe947d3edbc"
   },
   "outputs": [
    {
     "data": {
      "text/html": [
       "\n",
       "    <div>\n",
       "      \n",
       "      <progress value='357' max='119' style='width:300px; height:20px; vertical-align: middle;'></progress>\n",
       "      [119/119 11:12]\n",
       "    </div>\n",
       "    "
      ],
      "text/plain": [
       "<IPython.core.display.HTML object>"
      ]
     },
     "metadata": {},
     "output_type": "display_data"
    },
    {
     "name": "stdout",
     "output_type": "stream",
     "text": [
      "{'eval_loss': 0.2014794498682022, 'eval_accuracy': 0.9422368421052632, 'eval_f1_macro': 0.9422782645902603, 'eval_f1_weighted': 0.9422782645902603, 'eval_runtime': 16.0414, 'eval_samples_per_second': 473.774, 'eval_steps_per_second': 7.418, 'epoch': 3.0}\n"
     ]
    }
   ],
   "source": [
    "results = trainer.evaluate()\n",
    "print(results)"
   ]
  },
  {
   "cell_type": "code",
   "execution_count": null,
   "metadata": {
    "id": "NgTEuCGvcGrA"
   },
   "outputs": [],
   "source": [
    "score_metrics = {k: v for k, v in results.items() if \"accuracy\" in k or \"f1\" in k or \"loss\" in k}\n",
    "performance_metrics = {k: v for k, v in results.items() if k not in score_metrics and k != \"epoch\"}"
   ]
  },
  {
   "cell_type": "code",
   "execution_count": null,
   "metadata": {
    "colab": {
     "base_uri": "https://localhost:8080/",
     "height": 506
    },
    "id": "ebm6usTRerzJ",
    "outputId": "24cc22ad-4673-4378-b53a-e00572b43329"
   },
   "outputs": [
    {
     "data": {
      "image/png": "[encoded data removed]",
      "text/plain": [
       "<Figure size 800x500 with 1 Axes>"
      ]
     },
     "metadata": {},
     "output_type": "display_data"
    }
   ],
   "source": [
    "plt.figure(figsize=(8, 5))\n",
    "plt.bar(score_metrics.keys(), score_metrics.values(), color=\"mediumseagreen\")\n",
    "plt.ylabel(\"Score\")\n",
    "plt.title(\"Evaluation Scores\")\n",
    "plt.ylim(0, 1.05)\n",
    "plt.grid(axis=\"y\", linestyle=\"--\", alpha=0.7)\n",
    "plt.xticks(rotation=15)\n",
    "plt.tight_layout()\n",
    "plt.show()"
   ]
  },
  {
   "cell_type": "code",
   "execution_count": null,
   "metadata": {
    "colab": {
     "base_uri": "https://localhost:8080/",
     "height": 507
    },
    "id": "Q1K4BIY4euk6",
    "outputId": "f4ee85df-f7b6-4acb-fc65-c820621ff839"
   },
   "outputs": [
    {
     "data": {
      "image/png": "[encoded data removed]",
      "text/plain": [
       "<Figure size 800x500 with 1 Axes>"
      ]
     },
     "metadata": {},
     "output_type": "display_data"
    }
   ],
   "source": [
    "plt.figure(figsize=(8, 5))\n",
    "plt.bar(performance_metrics.keys(), performance_metrics.values(), color=\"salmon\")\n",
    "plt.ylabel(\"Value\")\n",
    "plt.title(\"Evaluation Performance\")\n",
    "plt.grid(axis=\"y\", linestyle=\"--\", alpha=0.7)\n",
    "plt.xticks(rotation=15)\n",
    "plt.tight_layout()\n",
    "plt.show()"
   ]
  },
  {
   "cell_type": "code",
   "execution_count": null,
   "metadata": {
    "colab": {
     "base_uri": "https://localhost:8080/",
     "height": 49,
     "referenced_widgets": [
      "cc4840f50f004e5b93f30dba02413fde",
      "58f6458813a64b0285632f5271b47568",
      "cc396618849a4f37ba2771e159d73494",
      "5864249e109546fdb171b050e9889e51",
      "8d2d04dd06524a1ca75c29305a6a0f3c",
      "84e161a69cf84d16801fc73105831688",
      "f9480cb4eea140408bc87fcf88c2f9f8",
      "63b0d62294a544dcbf9e10ba76d83215",
      "f8b1a4ac660b4020aaeeaea4cf804231",
      "74489b081e7e463f93261fc0f05f644e",
      "485091126d4b45ee84bff5c831883001"
     ]
    },
    "id": "eE9toDUde2TN",
    "outputId": "c50c9aa9-ae40-476a-b078-5e16d0cf50cb"
   },
   "outputs": [
    {
     "data": {
      "application/vnd.jupyter.widget-view+json": {
       "model_id": "cc4840f50f004e5b93f30dba02413fde",
       "version_major": 2,
       "version_minor": 0
      },
      "text/plain": [
       "Map:   0%|          | 0/7600 [00:00<?, ? examples/s]"
      ]
     },
     "metadata": {},
     "output_type": "display_data"
    }
   ],
   "source": [
    "tokenized_test_ds = final_ds[\"eval\"].map(preprocessing, batched=True)"
   ]
  },
  {
   "cell_type": "code",
   "execution_count": null,
   "metadata": {
    "colab": {
     "base_uri": "https://localhost:8080/"
    },
    "id": "UGSWJELsgTyq",
    "outputId": "577f7438-1cf1-4338-dfb9-ae60dd99d957"
   },
   "outputs": [
    {
     "data": {
      "text/plain": [
       "Dataset({\n",
       "    features: ['text', 'label', 'input_ids', 'attention_mask'],\n",
       "    num_rows: 7600\n",
       "})"
      ]
     },
     "execution_count": 52,
     "metadata": {},
     "output_type": "execute_result"
    }
   ],
   "source": [
    "tokenized_test_ds"
   ]
  },
  {
   "cell_type": "code",
   "execution_count": null,
   "metadata": {
    "colab": {
     "base_uri": "https://localhost:8080/",
     "height": 17
    },
    "id": "85iIOUndhP21",
    "outputId": "e7b12162-5db5-4d89-cc18-cb878cded982"
   },
   "outputs": [
    {
     "data": {
      "text/html": [],
      "text/plain": [
       "<IPython.core.display.HTML object>"
      ]
     },
     "metadata": {},
     "output_type": "display_data"
    }
   ],
   "source": [
    "predictions = trainer.predict(tokenized_test_ds)\n",
    "logits = predictions.predictions\n",
    "predicted_classes = np.argmax(logits, axis=1)"
   ]
  },
  {
   "cell_type": "code",
   "execution_count": null,
   "metadata": {
    "colab": {
     "base_uri": "https://localhost:8080/"
    },
    "id": "cIZ0iyAthqdI",
    "outputId": "03183e9c-db89-496f-f9df-f46d2de3ed7a"
   },
   "outputs": [
    {
     "name": "stdout",
     "output_type": "stream",
     "text": [
      "Total Accuracy Percentage: 94.22%\n",
      "\n",
      "              precision    recall  f1-score   support\n",
      "\n",
      "           0       0.96      0.95      0.95      1900\n",
      "           1       0.99      0.98      0.99      1900\n",
      "           2       0.92      0.90      0.91      1900\n",
      "           3       0.91      0.93      0.92      1900\n",
      "\n",
      "    accuracy                           0.94      7600\n",
      "   macro avg       0.94      0.94      0.94      7600\n",
      "weighted avg       0.94      0.94      0.94      7600\n",
      "\n"
     ]
    }
   ],
   "source": [
    "from sklearn.metrics import classification_report, confusion_matrix, ConfusionMatrixDisplay, accuracy_score\n",
    "\n",
    "\n",
    "accuracy = accuracy_score(final_ds[\"eval\"][\"label\"], predicted_classes)\n",
    "\n",
    "print(f\"Total Accuracy Percentage: {accuracy * 100:.2f}%\\n\")\n",
    "print(classification_report(final_ds[\"eval\"][\"label\"], predicted_classes))"
   ]
  },
  {
   "cell_type": "code",
   "execution_count": null,
   "metadata": {
    "colab": {
     "base_uri": "https://localhost:8080/",
     "height": 472
    },
    "id": "tVdOhtxriXY_",
    "outputId": "b0269d1f-1513-4e21-e9ad-a51560979aa3"
   },
   "outputs": [
    {
     "data": {
      "image/png": "[encoded data removed]",
      "text/plain": [
       "<Figure size 640x480 with 2 Axes>"
      ]
     },
     "metadata": {},
     "output_type": "display_data"
    }
   ],
   "source": [
    "cm = confusion_matrix(final_ds[\"eval\"][\"label\"], predicted_classes)\n",
    "disp = ConfusionMatrixDisplay(confusion_matrix=cm)\n",
    "disp.plot(cmap=\"Blues\")\n",
    "plt.title(\"Confusion Matrix on Unseen Data\")\n",
    "plt.show()"
   ]
  },
  {
   "cell_type": "code",
   "execution_count": null,
   "metadata": {
    "colab": {
     "base_uri": "https://localhost:8080/"
    },
    "id": "OBRHw4uqivgn",
    "outputId": "2a94c797-af8e-4867-d3b3-7524381e7859"
   },
   "outputs": [
    {
     "name": "stdout",
     "output_type": "stream",
     "text": [
      "Text: Fears for T N pension after talks Unions representing workers at Turner   Newall say they are 'disappointed' after talks with stricken parent firm Federal Mogul.\n",
      "True Label: Business | Predicted: Business\n",
      "\n",
      "Text: The Race is On: Second Private Team Sets Launch Date for Human Spaceflight (SPACE.com) SPACE.com - TORONTO, Canada -- A second\\team of rocketeers competing for the  #36;10 million Ansari X Prize, a contest for\\privately funded suborbital space flight, has officially announced the first\\launch date for its manned rocket.\n",
      "True Label: Sci/Tech | Predicted: Sci/Tech\n",
      "\n",
      "Text: Ky. Company Wins Grant to Study Peptides (AP) AP - A company founded by a chemistry researcher at the University of Louisville won a grant to develop a method of producing better peptides, which are short chains of amino acids, the building blocks of proteins.\n",
      "True Label: Sci/Tech | Predicted: Sci/Tech\n",
      "\n",
      "Text: Prediction Unit Helps Forecast Wildfires (AP) AP - It's barely dawn when Mike Fitzpatrick starts his shift with a blur of colorful maps, figures and endless charts, but already he knows what the day will bring. Lightning will strike in places he expects. Winds will pick up, moist places will dry and flames will roar.\n",
      "True Label: Sci/Tech | Predicted: Sci/Tech\n",
      "\n",
      "Text: Calif. Aims to Limit Farm-Related Smog (AP) AP - Southern California's smog-fighting agency went after emissions of the bovine variety Friday, adopting the nation's first rules to reduce air pollution from dairy cow manure.\n",
      "True Label: Sci/Tech | Predicted: Sci/Tech\n",
      "\n",
      "Text: Open Letter Against British Copyright Indoctrination in Schools The British Department for Education and Skills (DfES) recently launched a \"Music Manifesto\" campaign, with the ostensible intention of educating the next generation of British musicians. Unfortunately, they also teamed up with the music industry (EMI, and various artists) to make this popular. EMI has apparently negotiated their end well, so that children in our schools will now be indoctrinated about the illegality of downloading music.The ignorance and audacity of this got to me a little, so I wrote an open letter to the DfES about it. Unfortunately, it's pedantic, as I suppose you have to be when writing to goverment representatives. But I hope you find it useful, and perhaps feel inspired to do something similar, if or when the same thing has happened in your area.\n",
      "True Label: Sci/Tech | Predicted: Sci/Tech\n",
      "\n",
      "Text: Loosing the War on Terrorism \\\\\"Sven Jaschan, self-confessed author of the Netsky and Sasser viruses, is\\responsible for 70 percent of virus infections in 2004, according to a six-month\\virus roundup published Wednesday by antivirus company Sophos.\"\\\\\"The 18-year-old Jaschan was taken into custody in Germany in May by police who\\said he had admitted programming both the Netsky and Sasser worms, something\\experts at Microsoft confirmed. (A Microsoft antivirus reward program led to the\\teenager's arrest.) During the five months preceding Jaschan's capture, there\\were at least 25 variants of Netsky and one of the port-scanning network worm\\Sasser.\"\\\\\"Graham Cluley, senior technology consultant at Sophos, said it was staggeri ...\\\\\n",
      "True Label: Sci/Tech | Predicted: Sci/Tech\n",
      "\n",
      "Text: FOAFKey: FOAF, PGP, Key Distribution, and Bloom Filters \\\\FOAF/LOAF  and bloom filters have a lot of interesting properties for social\\network and whitelist distribution.\\\\I think we can go one level higher though and include GPG/OpenPGP key\\fingerpring distribution in the FOAF file for simple web-of-trust based key\\distribution.\\\\What if we used FOAF and included the PGP key fingerprint(s) for identities?\\This could mean a lot.  You include the PGP key fingerprints within the FOAF\\file of your direct friends and then include a bloom filter of the PGP key\\fingerprints of your entire whitelist (the source FOAF file would of course need\\to be encrypted ).\\\\Your whitelist would be populated from the social network as your client\\discovered new identit ...\\\\\n",
      "True Label: Sci/Tech | Predicted: Sci/Tech\n",
      "\n",
      "Text: E-mail scam targets police chief Wiltshire Police warns about \"phishing\" after its fraud squad chief was targeted.\n",
      "True Label: Sci/Tech | Predicted: Sci/Tech\n",
      "\n",
      "Text: Card fraud unit nets 36,000 cards In its first two years, the UK's dedicated card fraud unit, has recovered 36,000 stolen cards and 171 arrests - and estimates it saved 65m.\n",
      "True Label: Sci/Tech | Predicted: Sci/Tech\n",
      "\n",
      "Text: Group to Propose New High-Speed Wireless Format  LOS ANGELES (Reuters) - A group of technology companies  including Texas Instruments Inc. &lt;TXN.N&gt;, STMicroelectronics  &lt;STM.PA&gt; and Broadcom Corp. &lt;BRCM.O&gt;, on Thursday said they  will propose a new wireless networking standard up to 10 times  the speed of the current generation.\n",
      "True Label: Sci/Tech | Predicted: Sci/Tech\n",
      "\n",
      "Text: Apple Launches Graphics Software, Video Bundle  LOS ANGELES (Reuters) - Apple Computer Inc.&lt;AAPL.O&gt; on  Tuesday began shipping a new program designed to let users  create real-time motion graphics and unveiled a discount  video-editing software bundle featuring its flagship Final Cut  Pro software.\n",
      "True Label: Sci/Tech | Predicted: Sci/Tech\n",
      "\n",
      "Text: Dutch Retailer Beats Apple to Local Download Market  AMSTERDAM (Reuters) - Free Record Shop, a Dutch music  retail chain, beat Apple Computer Inc. to market on Tuesday  with the launch of a new download service in Europe's latest  battleground for digital song services.\n",
      "True Label: Sci/Tech | Predicted: Sci/Tech\n",
      "\n",
      "Text: Super ant colony hits Australia A giant 100km colony of ants  which has been discovered in Melbourne, Australia, could threaten local insect species.\n",
      "True Label: Sci/Tech | Predicted: Sci/Tech\n",
      "\n",
      "Text: Socialites unite dolphin groups Dolphin groups, or \"pods\", rely on socialites to keep them from collapsing, scientists claim.\n",
      "True Label: Sci/Tech | Predicted: Sci/Tech\n",
      "\n",
      "Text: Teenage T. rex's monster growth Tyrannosaurus rex achieved its massive size due to an enormous growth spurt during its adolescent years.\n",
      "True Label: Sci/Tech | Predicted: Sci/Tech\n",
      "\n",
      "Text: Scientists Discover Ganymede has a Lumpy Interior Jet Propulsion Lab -- Scientists have discovered irregular lumps beneath the icy surface of Jupiter's largest moon, Ganymede. These irregular masses may be rock formations, supported by Ganymede's icy shell for billions of years...\n",
      "True Label: Sci/Tech | Predicted: Sci/Tech\n",
      "\n",
      "Text: Mars Rovers Relay Images Through Mars Express European Space Agency -- ESAs Mars Express has relayed pictures from one of NASA's Mars rovers for the first time, as part of a set of interplanetary networking demonstrations.     The demonstrations pave the way for future Mars missions to draw on joint interplanetary networking capabilities...\n",
      "True Label: Sci/Tech | Predicted: Sci/Tech\n",
      "\n",
      "Text: Rocking the Cradle of Life When did life begin? One evidential clue stems from the fossil records in Western Australia, although whether these layered sediments are biological or chemical has spawned a spirited debate. Oxford researcher, Nicola McLoughlin, describes some of the issues in contention.\n",
      "True Label: Sci/Tech | Predicted: Sci/Tech\n",
      "\n",
      "Text: Storage, servers bruise HP earnings update Earnings per share rise compared with a year ago, but company misses analysts' expectations by a long shot.\n",
      "True Label: Sci/Tech | Predicted: Sci/Tech\n",
      "\n",
      "Text: IBM to hire even more new workers By the end of the year, the computing giant plans to have its biggest headcount since 1991.\n",
      "True Label: Sci/Tech | Predicted: Business\n",
      "\n",
      "Text: Sun's Looking Glass Provides 3D View Developers get early code for new operating system 'skin' still being crafted.\n",
      "True Label: Sci/Tech | Predicted: Sci/Tech\n",
      "\n",
      "Text: IBM Chips May Someday Heal Themselves New technology applies electrical fuses to help identify and repair faults.\n",
      "True Label: Sci/Tech | Predicted: Sci/Tech\n",
      "\n",
      "Text: Some People Not Eligible to Get in on Google IPO Google has billed its IPO as a way for everyday people to get in on the process, denying Wall Street the usual stranglehold it's had on IPOs. Public bidding, a minimum of just five shares, an open process with 28 underwriters - all this pointed to a new level of public participation. But this isn't the case.\n",
      "True Label: Sci/Tech | Predicted: Business\n",
      "\n",
      "Text: Rivals Try to Turn Tables on Charles Schwab By MICHAEL LIEDTKE     SAN FRANCISCO (AP) -- With its low prices and iconoclastic attitude, discount stock broker Charles Schwab Corp. (SCH) represented an annoying stone in Wall Street's wing-tipped shoes for decades...\n",
      "True Label: Sci/Tech | Predicted: Business\n",
      "\n",
      "Text: News: Sluggish movement on power grid cyber security Industry cyber security standards fail to reach some of the most vulnerable components of the power grid.\\\n",
      "True Label: Sci/Tech | Predicted: Sci/Tech\n",
      "\n",
      "Text: Giddy Phelps Touches Gold for First Time Michael Phelps won the gold medal in the 400 individual medley and set a world record in a time of 4 minutes 8.26 seconds.\n",
      "True Label: Sports | Predicted: Sports\n",
      "\n",
      "Text: Tougher rules won't soften Law's game FOXBOROUGH -- Looking at his ridiculously developed upper body, with huge biceps and hardly an ounce of fat, it's easy to see why Ty Law, arguably the best cornerback in football, chooses physical play over finesse. That's not to imply that he's lacking a finesse component, because he can shut down his side of the field much as Deion Sanders ...\n",
      "True Label: Sports | Predicted: Sports\n",
      "\n",
      "Text: Shoppach doesn't appear ready to hit the next level With the weeks dwindling until Jason Varitek enters free agency, the Red Sox continue to carefully monitor Kelly Shoppach , their catcher of the future, in his climb toward the majors. The Sox like most of what they have seen at Triple A Pawtucket from Shoppach, though it remains highly uncertain whether he can make the adjustments at the plate ...\n",
      "True Label: Sports | Predicted: Sports\n",
      "\n",
      "Text: Mighty Ortiz makes sure Sox can rest easy Just imagine what David Ortiz could do on a good night's rest. Ortiz spent the night before last with his baby boy, D'Angelo, who is barely 1 month old. He had planned on attending the Red Sox' Family Day at Fenway Park yesterday morning, but he had to sleep in. After all, Ortiz had a son at home, and he ...\n",
      "True Label: Sports | Predicted: Sports\n",
      "\n",
      "Text: They've caught his eye In  quot;helping themselves, quot; Ricky Bryant, Chas Gessner, Michael Jennings, and David Patten did nothing Friday night to make Bill Belichick's decision on what to do with his receivers any easier.\n",
      "True Label: Sports | Predicted: Sports\n",
      "\n",
      "Text: Indians Mount Charge The Cleveland Indians pulled within one game of the AL Central lead by beating the Minnesota Twins, 7-1, Saturday night with home runs by Travis Hafner and Victor Martinez.\n",
      "True Label: Sports | Predicted: Sports\n",
      "\n",
      "Text: Sister of man who died in Vancouver police custody slams chief (Canadian Press) Canadian Press - VANCOUVER (CP) - The sister of a man who died after a violent confrontation with police has demanded the city's chief constable resign for defending the officer involved.\n",
      "True Label: World | Predicted: World\n",
      "\n",
      "Text: Man Sought  #36;50M From McGreevey, Aides Say (AP) AP - The man who claims Gov. James E. McGreevey sexually harassed him was pushing for a cash settlement of up to  #36;50 million before the governor decided to announce that he was gay and had an extramarital affair, sources told The Associated Press.\n",
      "True Label: World | Predicted: World\n",
      "\n",
      "Text: Explosions Echo Throughout Najaf NAJAF, Iraq - Explosions and gunfire rattled through the city of Najaf as U.S. troops in armored vehicles and tanks rolled back into the streets here Sunday, a day after the collapse of talks - and with them a temporary cease-fire - intended to end the fighting in this holy city...\n",
      "True Label: World | Predicted: World\n",
      "\n",
      "Text: Frail Pope Celebrates Mass at Lourdes LOURDES, France - A frail Pope John Paul II, breathing heavily and gasping at times, celebrated an open-air Mass on Sunday for several hundred thousand pilgrims, many in wheelchairs, at a shrine to the Virgin Mary that is associated with miraculous cures.    At one point he said \"help me\" in Polish while struggling through his homily in French...\n",
      "True Label: World | Predicted: World\n",
      "\n",
      "Text: Venezuela Prepares for Chavez Recall Vote Supporters and rivals warn of possible fraud; government says Chavez's defeat could produce turmoil in world oil market.\n",
      "True Label: World | Predicted: Business\n",
      "\n",
      "Text: 1994 Law Designed to Preserve Guard Jobs (AP) AP - A 1994 law strengthened job protections for National Guard and Reserve troops called to active duty. Here are major provisions of the Uniformed Services Employment and Reemployment Rights Act (USERRA).\n",
      "True Label: World | Predicted: World\n",
      "\n",
      "Text: Iran Warns Its Missiles Can Hit Anywhere in Israel  TEHRAN (Reuters) - A senior Iranian military official said  Sunday Israel and the United States would not dare attack Iran  since it could strike back anywhere in Israel with its latest  missiles, news agencies reported.\n",
      "True Label: World | Predicted: World\n",
      "\n",
      "Text: Afghan Army Dispatched to Calm Violence KABUL, Afghanistan - Government troops intervened in Afghanistan's latest outbreak of deadly fighting between warlords, flying from the capital to the far west on U.S. and NATO airplanes to retake an air base contested in the violence, officials said Sunday...\n",
      "True Label: World | Predicted: World\n",
      "\n",
      "Text: Johnson Helps D-Backs End Nine-Game Slide (AP) AP - Randy Johnson took a four-hitter into the ninth inning to help the Arizona Diamondbacks end a nine-game losing streak Sunday, beating Steve Trachsel and the New York Mets 2-0.\n",
      "True Label: Sports | Predicted: Sports\n",
      "\n",
      "Text: Retailers Vie for Back-To-School Buyers (Reuters) Reuters - Apparel retailers are hoping their\\back-to-school fashions will make the grade among\\style-conscious teens and young adults this fall, but it could\\be a tough sell, with students and parents keeping a tighter\\hold on their wallets.\n",
      "True Label: Business | Predicted: Business\n",
      "\n",
      "Text: Politics an Afterthought Amid Hurricane (AP) AP - If Hurricane Charley had struck three years ago, President Bush's tour through the wreckage of this coastal city would have been just the sort of post-disaster visit that other presidents have made to the scenes of storms, earthquakes, floods and fires.\n",
      "True Label: World | Predicted: World\n",
      "\n",
      "Text: Spam suspension hits Sohu.com shares (FT.com) FT.com - Shares in Sohu.com, a leading US-listed Chinese internet portal, fell more than 10 per cent on Friday after China's biggest mobile phone network operator imposed a one-year suspension on its multimedia messaging services because of customers being sent spam.\n",
      "True Label: Sci/Tech | Predicted: Sci/Tech\n",
      "\n",
      "Text: Erstad's Double Lifts Angels to Win (AP) AP - Darin Erstad doubled in the go-ahead run in the eighth inning, lifting the Anaheim Angels to a 3-2 victory over the Detroit Tigers on Sunday. The win pulled Anaheim within a percentage point of Boston and Texas in the AL wild-card race.\n",
      "True Label: Sports | Predicted: Sports\n",
      "\n",
      "Text: Drew Out of Braves' Lineup After Injury (AP) AP - Outfielder J.D. Drew missed the Atlanta Braves' game against the St. Louis Cardinals on Sunday night with a sore right quadriceps.\n",
      "True Label: Sports | Predicted: Sports\n",
      "\n",
      "Text: Venezuelans Flood Polls, Voting Extended  CARACAS, Venezuela (Reuters) - Venezuelans voted in huge  numbers on Sunday in a historic referendum on whether to recall  left-wing President Hugo Chavez and electoral authorities  prolonged voting well into the night.\n",
      "True Label: World | Predicted: World\n",
      "\n",
      "Text: Dell Exits Low-End China Consumer PC Market  HONG KONG (Reuters) - Dell Inc. &lt;DELL.O&gt;, the world's  largest PC maker, said on Monday it has left the low-end  consumer PC market in China and cut its overall growth target  for the country this year due to stiff competition in the  segment.\n",
      "True Label: Sci/Tech | Predicted: Business\n",
      "\n",
      "Text: China Says Taiwan Spy Also Operated in U.S. - Media  BEIJING (Reuters) - Beijing on Monday accused a  Chinese-American arrested for spying for Taiwan of building an  espionage network in the United States, and said he could go on  trial very soon.\n",
      "True Label: World | Predicted: World\n",
      "\n",
      "Text: Another Major Non-Factor Another major, another disappointment for Tiger Woods, the No. 1 ranked player in the world who has not won a major championship since his triumph at the 2002 U.S. Open.\n",
      "True Label: Sports | Predicted: Sports\n",
      "\n",
      "Text: US fighter squadron to be deployed in South Korea next month (AFP) AFP - A squadron of US Air Force F-15E fighters based in Alaska will fly to South Korea next month for temporary deployment aimed at enhancing US firepower on the Korean peninsula, US authorities said.\n",
      "True Label: World | Predicted: World\n",
      "\n",
      "Text: Johnson Back to His Best as D-Backs End Streak  NEW YORK (Reuters) - Randy Johnson struck out 14 batters in  8 1/3 innings to help the Arizona Diamondbacks end a nine-game  losing streak with a 2-0 win over the host New York Mets in the  National League Sunday.\n",
      "True Label: Sports | Predicted: Sports\n",
      "\n",
      "Text: Restive Maldives eases curfew after rounding up dissidents (AFP) AFP - A curfew in the capital of the Maldives was eased but parliament sessions were put off indefinitely and emergency rule continued following last week's riots, officials and residents said.\n",
      "True Label: World | Predicted: World\n",
      "\n",
      "Text: Vodafone hires Citi for Cesky bid (TheDeal.com) TheDeal.com - The U.K. mobile giant wants to find a way to disentagle the Czech wireless and fixed-line businesses.\n",
      "True Label: Sci/Tech | Predicted: Sci/Tech\n",
      "\n",
      "Text: Dollar Briefly Hits 4-Wk Low Vs Euro  LONDON (Reuters) - The dollar dipped to a four-week low  against the euro on Monday before rising slightly on  profit-taking, but steep oil prices and weak U.S. data  continued to fan worries about the health of the world's  largest economy.\n",
      "True Label: Business | Predicted: Business\n",
      "\n",
      "Text: Promoting a Shared Vision As Michael Kaleko kept running into people who were getting older and having more vision problems, he realized he could do something about it.\n",
      "True Label: Sci/Tech | Predicted: Sci/Tech\n",
      "\n",
      "Text: India's Tata expands regional footprint via NatSteel buyout (AFP) AFP - India's Tata Iron and Steel Company Ltd. took a strategic step to expand its Asian footprint with the announcement it will buy the Asia-Pacific steel operations of Singapore's NatSteel Ltd.\n",
      "True Label: World | Predicted: World\n",
      "\n",
      "Text: Delegates Urge Cleric to Pull Out of Najaf BAGHDAD, Iraq - Delegates at Iraq's National Conference called on radical Shiite cleric Muqtada al-Sadr to abandon his uprising against U.S. and Iraqi troops and pull his fighters out of a holy shrine in Najaf...\n",
      "True Label: World | Predicted: World\n",
      "\n",
      "Text: Treasuries Slip as Stocks Rally  NEW YORK (Reuters) - U.S. Treasury debt prices slipped on  Monday, though traders characterized the move as profit-taking  rather than any fundamental change in sentiment.\n",
      "True Label: Business | Predicted: Business\n",
      "\n",
      "Text: Dollar Rises Vs Euro on Asset Flows Data  NEW YORK (Reuters) - The dollar extended gains against the  euro on Monday after a report on flows into U.S. assets showed  enough of a rise in foreign investments to offset the current  account gap for the month.\n",
      "True Label: Business | Predicted: Business\n",
      "\n",
      "Text: Sutton Adds Haas, Cink to Ryder Cup Team  MILWAUKEE (Sports Network) - U.S. Ryder Cup captain Hal  Sutton finalized his team on Monday when he announced the  selections of Jay Haas and Stewart Cink as his captain's picks.\n",
      "True Label: Sports | Predicted: Sports\n",
      "\n",
      "Text: Haas and Cink Selected for Ryder Cup Team Jay Haas joined Stewart Cink as the two captain's picks for a U.S. team that will try to regain the cup from Europe next month.\n",
      "True Label: Sports | Predicted: Sports\n",
      "\n",
      "Text: Natalie Coughlin Wins 100M Backstroke (AP) AP - American Natalie Coughlin won Olympic gold in the 100-meter backstroke Monday night. Coughlin, the only woman ever to swim under 1 minute in the event, finished first in 1 minute, 0.37 seconds. Kirsty Coventry of Zimbabwe, who swims at Auburn University in Alabama, earned the silver in 1:00.50. Laure Manaudou of France took bronze in 1:00.88.\n",
      "True Label: Sports | Predicted: Sports\n",
      "\n",
      "Text: Oracle Overhauls Sales-Side Apps for CRM Suite (NewsFactor) NewsFactor - Oracle (Nasdaq: ORCL) has revamped its sales-side CRM applications in version 11i.10 of its sales, marketing, partner relationship management and e-commerce application.\n",
      "True Label: Sci/Tech | Predicted: Sci/Tech\n",
      "\n",
      "Text: UN launches 210-million-dollar appeal for flood-hit Bangladesh (AFP) AFP - The United Nations launched an appeal here for 210 million dollars to help flood victims facing \"grave\" food shortages after two-thirds of Bangladesh was submerged, destroying crops and killing more than 700 people.\n",
      "True Label: World | Predicted: World\n",
      "\n",
      "Text: Indian state rolls out wireless broadband Government in South Indian state of Kerala sets up wireless kiosks as part of initiative to bridge digital divide.\n",
      "True Label: Sci/Tech | Predicted: Sci/Tech\n",
      "\n",
      "Text: Hurricane Survivors Wait for Water, Gas PUNTA GORDA, Fla. - Urban rescue teams, insurance adjusters and National Guard troops scattered across Florida Monday to help victims of Hurricane Charley and deliver water and other supplies to thousands of people left homeless...\n",
      "True Label: World | Predicted: World\n",
      "\n",
      "Text: Jackson Squares Off With Prosecutor SANTA MARIA, Calif. - Fans of Michael Jackson erupted in cheers Monday as the pop star emerged from a double-decker tour bus and went into court for a showdown with the prosecutor who has pursued him for years on child molestation charges...\n",
      "True Label: World | Predicted: World\n",
      "\n",
      "Text: Bobcats Trade Drobnjak to Hawks for Pick (AP) AP - The Charlotte Bobcats traded center Predrag Drobnjak to the Atlanta Hawks on Monday for a second round pick in the 2005 NBA draft.\n",
      "True Label: Sports | Predicted: Sports\n",
      "\n",
      "Text: Suspect charged in abduction, sexual assault of 11-year-old girl (Canadian Press) Canadian Press - LANGLEY, B.C. (CP) - Police have arrested a man in the kidnapping and sexual assault of an 11-year-old girl that frightened this suburban Vancouver community last week.\n",
      "True Label: World | Predicted: World\n",
      "\n",
      "Text: China's Red Flag Linux to focus on enterprise Red Flag Software Co., the company behind China's leading Linux client distribution, plans to focus more on its server operating system and enterprise customers, the company's acting president said.\n",
      "True Label: Sci/Tech | Predicted: Sci/Tech\n",
      "\n",
      "Text: AOL Properties Sign Girafa For Thumbnail Search Images AOL Properties Sign Girafa For Thumbnail Search Images\\\\Girafa.com Inc. announced today that the CompuServe, Netscape, AIM and ICQ properties of America Online, Inc., have signed an agreement with Girafa to use Girafa's thumbnail search images as an integrated part of their search results.\\\\Using Girafa's thumbnail search service, search users can ...\n",
      "True Label: Sci/Tech | Predicted: Sci/Tech\n",
      "\n",
      "Text: Cassini Spies Two Little Saturn Moons (AP) AP - NASA's Cassini spacecraft has spied two new little moons around satellite-rich Saturn, the space agency said Monday.\n",
      "True Label: Sci/Tech | Predicted: Sci/Tech\n",
      "\n",
      "Text: On front line of AIDS in Russia An industrial city northwest of Moscow struggles as AIDS hits a broader population.\n",
      "True Label: World | Predicted: World\n",
      "\n",
      "Text: Nobel Laureate Decries Stem Cell Limits (AP) AP - A Nobel laureate in medicine said Monday the Bush administration's limits on funding for embryonic stem cell research effectively have stopped the clock on American scientists' efforts to develop treatments for a host of chronic, debilitating diseases.\n",
      "True Label: Sci/Tech | Predicted: Sci/Tech\n",
      "\n",
      "Text: Jury Can Hear of Kobe Accuser's Sex Life (AP) AP - Prosecutors suffered another setback Monday in the Kobe Bryant sexual assault case, losing a last-ditch attempt to keep the NBA star's lawyers from telling jurors about the alleged victim's sex life.\n",
      "True Label: Sports | Predicted: Sports\n",
      "\n",
      "Text: North Korea Talks Still On, China Tells Downer (Reuters) Reuters - China has said no date has been set for\\working-level talks on the North Korean nuclear crisis and gave\\no indication that the meeting has been canceled, Australian\\Foreign Minister Alexander Downer said on Tuesday.\n",
      "True Label: World | Predicted: World\n",
      "\n",
      "Text: Griffin to Anchor D-Line The Redskins expect huge things from 300-pound Cornelius Griffin, who was signed to aid the team's weakest unit - the defensive line.\n",
      "True Label: Sports | Predicted: Sports\n",
      "\n",
      "Text: Last American defector in North Korea agrees to tell story (AFP) AFP - The last surviving American defector to communist North Korea wants to tell his story to put a human face on the Stalinist state which he believes is unfairly vilified abroad, British film-makers said.\n",
      "True Label: World | Predicted: World\n",
      "\n",
      "Text: Live: Olympics day four Richard Faulds and Stephen Parry are going for gold for Great Britain on day four in Athens.\n",
      "True Label: World | Predicted: World\n",
      "\n",
      "Text: Kerry Widens Lead in California, Poll Finds (Reuters) Reuters - Democratic challenger John Kerry\\has a commanding lead over President Bush in California of 54\\percent to 38 percent among likely voters, a poll released on\\Tuesday found.\n",
      "True Label: World | Predicted: World\n",
      "\n",
      "Text: Capacity Crowds at Beach Volleyball Rock the Joint  ATHENS (Reuters) - At the beach volleyball, the 2004  Olympics is a sell-out, foot-stomping success.\n",
      "True Label: Sports | Predicted: Sports\n",
      "\n",
      "Text: Dollar Near Recent Lows, Awaits ZEW/CPI  LONDON (Reuters) - The dollar held steady near this week's  four-week low against the euro on Tuesday with investors  awaiting a German investor confidence survey and U.S. consumer  inflation numbers to shed light on the direction.\n",
      "True Label: Business | Predicted: Business\n",
      "\n",
      "Text: Intel to delay product aimed for high-definition TVs SAN FRANCISCO -- In the latest of a series of product delays, Intel Corp. has postponed the launch of a video display chip it had previously planned to introduce by year end, putting off a showdown with Texas Instruments Inc. in the fast-growing market for high-definition television displays.\n",
      "True Label: Business | Predicted: Sci/Tech\n",
      "\n",
      "Text: Venezuela vote keeps Chavez as president CARACAS -- Venezuelans voted resoundingly to keep firebrand populist Hugo Chavez as their president in a victory that drew noisy reactions yesterday from both sides in the streets. International observers certified the results as clean and accurate.\n",
      "True Label: World | Predicted: World\n",
      "\n",
      "Text: Jailing of HK democrat in China 'politically motivated' (AFP) AFP - Hong Kong democrats accused China of jailing one of their members on trumped-up prostitution charges in a bid to disgrace a political movement Beijing has been feuding with for seven years.\n",
      "True Label: World | Predicted: World\n",
      "\n",
      "Text: Kmart Swings to Profit in 2Q; Stock Surges (AP) AP - Shares of Kmart Holding Corp. surged 17 percent Monday after the discount retailer reported a profit for the second quarter and said chairman and majority owner Edward Lampert is now free to invest the company's  #36;2.6 billion in surplus cash.\n",
      "True Label: Business | Predicted: Business\n",
      "\n",
      "Text: Fischer's Fiancee: Marriage Plans Genuine (AP) AP - Former chess champion Bobby Fischer's announcement thathe is engaged to a Japanese woman could win him sympathy among Japanese officials and help him avoid deportation to the United States, his fiancee and one of his supporters said Tuesday.\n",
      "True Label: World | Predicted: World\n",
      "\n",
      "Text: U.S. Misses Cut in Olympic 100 Free ATHENS, Greece - Top American sprinters Jason Lezak and Ian Crocker missed the cut in the Olympic 100-meter freestyle preliminaries Tuesday, a stunning blow for a country that had always done well in the event.    Pieter van den Hoogenband of the Netherlands and Australian Ian Thorpe advanced to the evening semifinal a day after dueling teenager Michael Phelps in the 200 freestyle, won by Thorpe...\n",
      "True Label: World | Predicted: World\n",
      "\n",
      "Text: Consumers Would Pay In Phone Proposal A proposal backed by a coalition of telephone carriers would cut billions of dollars in fees owed by long-distance companies to regional phone giants but would allow the regional companies to make up some of the difference by raising monthly phone bills for millions of consumers. &lt;FONT face=\"verdana,MS Sans Serif,arial,helvetica\" size=\"-2\"\\ color=\"#666666\"&gt;&lt;B&gt;-The Washington Post&lt;/B&gt;&lt;/FONT&gt;\n",
      "True Label: Sci/Tech | Predicted: Sci/Tech\n",
      "\n",
      "Text: U.S. Brokers Cease-fire in Western Afghanistan  KABUL (Reuters) - The United States has brokered a  cease-fire between a renegade Afghan militia leader and the  embattled governor of the western province of Herat,  Washington's envoy to Kabul said Tuesday.\n",
      "True Label: World | Predicted: World\n",
      "\n",
      "Text: Sneaky Credit Card Tactics Keep an eye on your credit card issuers -- they may be about to raise your rates.\n",
      "True Label: Business | Predicted: Business\n",
      "\n",
      "Text: Intel Delays Launch of Projection TV Chip In another product postponement, semiconductor giant Intel Corp. said it won't be offering a chip for projection TVs by the end of 2004 as it had announced earlier this year.\n",
      "True Label: Sci/Tech | Predicted: Sci/Tech\n",
      "\n",
      "Text: Fund pessimism grows NEW YORK (CNN/Money) - Money managers are growing more pessimistic about the economy, corporate profits and US stock market returns, according to a monthly survey by Merrill Lynch released Tuesday. \n",
      "True Label: Business | Predicted: Business\n",
      "\n",
      "Text: Kederis proclaims innocence Olympic champion Kostas Kederis today left hospital ahead of his date with IOC inquisitors claiming his innocence and vowing:  quot;After the crucifixion comes the resurrection. quot; ...\n",
      "True Label: Sports | Predicted: Sports\n",
      "\n",
      "Text: Eriksson doesn #39;t feel any extra pressure following scandal NEWCASTLE, England (AP) - England coach Sven-Goran Eriksson said Tuesday he isn #39;t under any extra pressure in the aftermath of a scandal that damaged the Football Association #39;s reputation. \n",
      "True Label: Sports | Predicted: Sports\n",
      "\n",
      "Text: Injured Heskey to miss England friendly NEWCASTLE, England (AP) - Striker Emile Heskey has pulled out of the England squad ahead of Wednesday #39;s friendly against Ukraine because of a tight hamstring, the Football Association said Tuesday. \n",
      "True Label: Sports | Predicted: Sports\n",
      "\n",
      "Text: Staples Profit Up, to Enter China Market  NEW YORK (Reuters) - Staples Inc. &lt;A HREF=\"http://www.investor.reuters.com/FullQuote.aspx?ticker=SPLS.O target=/stocks/quickinfo/fullquote\"&gt;SPLS.O&lt;/A&gt;, the top U.S.  office products retailer, on Tuesday reported a 39 percent jump  in quarterly profit, raised its full-year forecast and said it  plans to enter the fast-growing Chinese market, sending its  shares higher.\n",
      "True Label: Business | Predicted: Business\n",
      "\n",
      "Text: Delegation Is Delayed Before Reaching Najaf AGHDAD, Iraq, Aug. 17  A delegation of Iraqis was delayed for security reasons today but still intended to visit Najaf to try to convince a rebellious Shiite cleric and his militia to evacuate a shrine in the holy city and end ...\n",
      "True Label: World | Predicted: World\n",
      "\n",
      "Text: Consumer Prices Down, Industry Output Up  WASHINGTON (Reuters) - U.S. consumer prices dropped in July  for the first time in eight months as a sharp run up in energy  costs reversed, the government said in a report that suggested  a slow rate of interest rate hikes is likely.\n",
      "True Label: Business | Predicted: Business\n",
      "\n"
     ]
    }
   ],
   "source": [
    "for i, (text, true, pred) in enumerate(zip(final_ds[\"eval\"][\"text\"], final_ds[\"eval\"][\"label\"], predicted_classes)):\n",
    "    if i >= 100:\n",
    "        break\n",
    "    print(f\"Text: { text }\\nTrue Label: { labels[true] } | Predicted: { labels[int(pred)] }\\n\")\n"
   ]
  },
  {
   "cell_type": "code",
   "execution_count": null,
   "metadata": {
    "colab": {
     "base_uri": "https://localhost:8080/"
    },
    "id": "MY_tig-HjKc7",
    "outputId": "51b20624-f00d-4a7c-a875-57ee32f01878"
   },
   "outputs": [
    {
     "name": "stdout",
     "output_type": "stream",
     "text": [
      "\n",
      "    _\n",
      "    _\n",
      "    _\n",
      "    _\n",
      "    _\n",
      "\n",
      "    To log in, `huggingface_hub` requires a token generated from https://huggingface.co/settings/tokens .\n",
      "Enter your token (input will not be visible): \n",
      "Add token as git credential? (Y/n) y\n",
      "Token is valid (permission: write).\n",
      "The token `First Token` has been saved to /root/.cache/huggingface/stored_tokens\n",
      "\u001b[1m\u001b[31mCannot authenticate through git-credential as no helper is defined on your machine.\n",
      "You might have to re-authenticate when pushing to the Hugging Face Hub.\n",
      "Run the following command in your terminal in case you want to set the 'store' credential helper as default.\n",
      "\n",
      "git config --global credential.helper store\n",
      "\n",
      "Read https://git-scm.com/book/en/v2/Git-Tools-Credential-Storage for more details.\u001b[0m\n",
      "Token has not been saved to git credential helper.\n",
      "Your token has been saved to /root/.cache/huggingface/token\n",
      "Login successful.\n",
      "The current active token is: `First Token`\n"
     ]
    }
   ],
   "source": [
    "!huggingface-cli login"
   ]
  },
  {
   "cell_type": "code",
   "execution_count": null,
   "metadata": {
    "colab": {
     "base_uri": "https://localhost:8080/",
     "height": 156,
     "referenced_widgets": [
      "496ef9849227414eba8dd59bbe2678e3",
      "a994a1e1a069476db015e44bd1605e63",
      "8f5fb1d30c2043e79acf67a312b5c943",
      "e0c891d1c60a4ccd9f2796fe4bb9a561",
      "760d81b686fb440193eea842c36a3b35",
      "dda7f27d1775428d822d6cbd4651bd65",
      "606c911291ac4c529c64d59c0d290e47",
      "18f77cbaab3c4f8c8dae6773f68ca885",
      "05f908d328fb42b1bcc76ee4fb90194b",
      "075bc05c1d304891abfd942eb9636988",
      "09390268c6b94fff9e25ece919666081"
     ]
    },
    "id": "0RhYIo_xmUBr",
    "outputId": "edebc8be-5c0d-421b-e52e-da1e328d0f43"
   },
   "outputs": [
    {
     "data": {
      "application/vnd.jupyter.widget-view+json": {
       "model_id": "496ef9849227414eba8dd59bbe2678e3",
       "version_major": 2,
       "version_minor": 0
      },
      "text/plain": [
       "Uploading...:   0%|          | 0.00/268M [00:00<?, ?B/s]"
      ]
     },
     "metadata": {},
     "output_type": "display_data"
    },
    {
     "data": {
      "application/vnd.google.colaboratory.intrinsic+json": {
       "type": "string"
      },
      "text/plain": [
       "CommitInfo(commit_url='https://huggingface.co/Arawat99/my_model_checkpoints/commit/c7ac4d6e05c4474a5041e90b3c7c5d153f6d88ae', commit_message='ag_news_fine_tuned_model', commit_description='', oid='c7ac4d6e05c4474a5041e90b3c7c5d153f6d88ae', pr_url=None, repo_url=RepoUrl('https://huggingface.co/Arawat99/my_model_checkpoints', endpoint='https://huggingface.co', repo_type='model', repo_id='Arawat99/my_model_checkpoints'), pr_revision=None, pr_num=None)"
      ]
     },
     "execution_count": 73,
     "metadata": {},
     "output_type": "execute_result"
    }
   ],
   "source": [
    "trainer.push_to_hub(\"ag_news_fine_tuned_model\")"
   ]
  },
  {
   "cell_type": "code",
   "execution_count": null,
   "metadata": {
    "id": "p4-hlfDAoOqZ"
   },
   "outputs": [],
   "source": []
  }
 ],
 "metadata": {
  "accelerator": "GPU",
  "colab": {
   "gpuType": "T4",
   "provenance": []
  },
  "kernelspec": {
   "display_name": "Python 3",
   "name": "python3"
  },
  "language_info": {
   "name": "python"
  }
 },
 "nbformat": 4,
 "nbformat_minor": 0
}
